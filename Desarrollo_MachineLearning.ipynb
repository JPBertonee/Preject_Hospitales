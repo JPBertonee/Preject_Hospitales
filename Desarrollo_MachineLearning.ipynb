{
 "cells": [
  {
   "cell_type": "markdown",
   "metadata": {},
   "source": [
    "<div align=\"center\">\n",
    "\n",
    "# **Project_Hospitales**\n",
    "\n",
    "</div>\n",
    "\n",
    "## 1. Planteamiento de la problemática\n",
    "\n",
    " Hemos sido contratados en el equipo de ciencia de datos en una consultora de renombre. Nos han asignado a un proyecto de estudio de atención en salud para un importante hospital. \n",
    "\n",
    " ***Nuestro cliente desea saber las características más importantes que tienen los pacientes de cierto tipo de enfermedad que terminan en hospitalización.***\n",
    "\n",
    "Fue definido como caso aquel paciente que fue sometido a biopsia prostática y que en un periodo máximo de 30 días posteriores al procedimiento presentó fiebre, infección urinaria o sepsis; requiriendo manejo médico ambulatorio u hospitalizado para la resolución de la complicación y como control al paciente que fue sometido a biopsia prostática y que no presentó complicaciones infecciosas en el período de 30 días posteriores al procedimiento. \n",
    "\n",
    "Dado que tienen en su base de datos algunos datos referentes a los pacientes y resultados de exámenes diagnósticos, de pacientes hospitalizados y no hospitalizados, nos han entregado esta información.  \n",
    "\n",
    "Para ello, nuestro departamento de datos ha recopilado:\n",
    "\n",
    "1. Antecedentes del paciente.\n",
    "1. Morbilidad asociada al paciente.\n",
    "1. Antecedentes relacionados con la toma de la biopsia.\n",
    "1. Complicaciones infecciosas.\n",
    "\n",
    "En la siguiente tabla, se encuentra un diccionario de datos asociado:\n",
    "\n",
    "\n",
    "![image](https://user-images.githubusercontent.com/118769777/220240501-8c21461d-2de5-495b-954e-10fb9bf38014.png)\n",
    "\n",
    "El departamente de datos advierte que hay algunos problemas de calidad de datos en la información suministrada por lo que el primer reto del equipo es realizar un análisis exploratorio de los datos con el fin de transformar y preparar las datos adecuadamente. \n",
    "\n",
    "\n",
    "## 2. Preparación de datos\n",
    "\n",
    "Una vez entendido el contexto de la problemática y realizado el análisis exploratorio de datos de acuerdo con la descripción del dataset y la información entregada al equipo en la fase anterior, continuamos con el proceso de EDA y preparación de datos, lo cual es crucial antes de desarollar el modelamiento. \n",
    "\n",
    "El estudio tiene como objetivo la clasificación de un paciente como hospitalizado o no hospitalizado."
   ]
  },
  {
   "cell_type": "code",
   "execution_count": 1082,
   "metadata": {},
   "outputs": [],
   "source": [
    "#Importamos librerías\n",
    "\n",
    "import pandas as pd\n",
    "import numpy as np\n",
    "import matplotlib.pyplot as plt\n",
    "import seaborn as sns\n",
    "from imblearn.over_sampling import RandomOverSampler"
   ]
  },
  {
   "cell_type": "markdown",
   "metadata": {},
   "source": [
    "### 2.1 Carga del dataset y visualización preliminar de sus datos"
   ]
  },
  {
   "cell_type": "code",
   "execution_count": 1083,
   "metadata": {},
   "outputs": [
    {
     "name": "stdout",
     "output_type": "stream",
     "text": [
      "<class 'pandas.core.frame.DataFrame'>\n",
      "RangeIndex: 570 entries, 0 to 569\n",
      "Data columns (total 20 columns):\n",
      " #   Column                                                                     Non-Null Count  Dtype  \n",
      "---  ------                                                                     --------------  -----  \n",
      " 0   EDAD                                                                       568 non-null    float64\n",
      " 1   DIABETES                                                                   568 non-null    object \n",
      " 2   HOSPITALIZACIÓN ULTIMO MES                                                 568 non-null    object \n",
      " 3   PSA                                                                        564 non-null    float64\n",
      " 4   BIOPSIAS PREVIAS                                                           566 non-null    object \n",
      " 5   VOLUMEN PROSTATICO                                                         567 non-null    object \n",
      " 6   ANTIBIOTICO UTILIAZADO EN LA PROFILAXIS                                    568 non-null    object \n",
      " 7   NUMERO DE MUESTRAS TOMADAS                                                 568 non-null    float64\n",
      " 8   CUP                                                                        567 non-null    object \n",
      " 9   ENF. CRONICA PULMONAR OBSTRUCTIVA                                          566 non-null    object \n",
      " 10  BIOPSIA                                                                    568 non-null    object \n",
      " 11  NUMERO DE DIAS POST BIOPSIA EN QUE SE PRESENTA LA COMPLICACIÓN INFECCIOSA  568 non-null    object \n",
      " 12  FIEBRE                                                                     568 non-null    object \n",
      " 13  ITU                                                                        568 non-null    object \n",
      " 14  TIPO DE CULTIVO                                                            568 non-null    object \n",
      " 15  AGENTE AISLADO                                                             551 non-null    object \n",
      " 16  PATRON DE RESISTENCIA                                                      568 non-null    object \n",
      " 17  HOSPITALIZACION                                                            565 non-null    object \n",
      " 18  DIAS HOSPITALIZACION MQ                                                    568 non-null    float64\n",
      " 19  DIAS HOSPITALIZACIÓN UPC                                                   568 non-null    float64\n",
      "dtypes: float64(5), object(15)\n",
      "memory usage: 89.2+ KB\n"
     ]
    },
    {
     "name": "stderr",
     "output_type": "stream",
     "text": [
      "/Library/Frameworks/Python.framework/Versions/3.11/lib/python3.11/site-packages/openpyxl/worksheet/_reader.py:329: UserWarning: Unknown extension is not supported and will be removed\n",
      "  warn(msg)\n"
     ]
    }
   ],
   "source": [
    "data = pd.read_excel('BBDD_Hospitalización.xlsx')\n",
    "data.info()"
   ]
  },
  {
   "cell_type": "code",
   "execution_count": 1084,
   "metadata": {},
   "outputs": [
    {
     "data": {
      "text/html": [
       "<div>\n",
       "<style scoped>\n",
       "    .dataframe tbody tr th:only-of-type {\n",
       "        vertical-align: middle;\n",
       "    }\n",
       "\n",
       "    .dataframe tbody tr th {\n",
       "        vertical-align: top;\n",
       "    }\n",
       "\n",
       "    .dataframe thead th {\n",
       "        text-align: right;\n",
       "    }\n",
       "</style>\n",
       "<table border=\"1\" class=\"dataframe\">\n",
       "  <thead>\n",
       "    <tr style=\"text-align: right;\">\n",
       "      <th></th>\n",
       "      <th>EDAD</th>\n",
       "      <th>DIABETES</th>\n",
       "      <th>HOSPITALIZACIÓN ULTIMO MES</th>\n",
       "      <th>PSA</th>\n",
       "      <th>BIOPSIAS PREVIAS</th>\n",
       "      <th>VOLUMEN PROSTATICO</th>\n",
       "      <th>ANTIBIOTICO UTILIAZADO EN LA PROFILAXIS</th>\n",
       "      <th>NUMERO DE MUESTRAS TOMADAS</th>\n",
       "      <th>CUP</th>\n",
       "      <th>ENF. CRONICA PULMONAR OBSTRUCTIVA</th>\n",
       "      <th>BIOPSIA</th>\n",
       "      <th>NUMERO DE DIAS POST BIOPSIA EN QUE SE PRESENTA LA COMPLICACIÓN INFECCIOSA</th>\n",
       "      <th>FIEBRE</th>\n",
       "      <th>ITU</th>\n",
       "      <th>TIPO DE CULTIVO</th>\n",
       "      <th>AGENTE AISLADO</th>\n",
       "      <th>PATRON DE RESISTENCIA</th>\n",
       "      <th>HOSPITALIZACION</th>\n",
       "      <th>DIAS HOSPITALIZACION MQ</th>\n",
       "      <th>DIAS HOSPITALIZACIÓN UPC</th>\n",
       "    </tr>\n",
       "  </thead>\n",
       "  <tbody>\n",
       "    <tr>\n",
       "      <th>count</th>\n",
       "      <td>568.000000</td>\n",
       "      <td>568</td>\n",
       "      <td>568</td>\n",
       "      <td>564.000000</td>\n",
       "      <td>566</td>\n",
       "      <td>567</td>\n",
       "      <td>568</td>\n",
       "      <td>568.000000</td>\n",
       "      <td>567</td>\n",
       "      <td>566</td>\n",
       "      <td>568</td>\n",
       "      <td>568</td>\n",
       "      <td>568</td>\n",
       "      <td>568</td>\n",
       "      <td>568</td>\n",
       "      <td>551</td>\n",
       "      <td>568</td>\n",
       "      <td>565</td>\n",
       "      <td>568.000000</td>\n",
       "      <td>568.000000</td>\n",
       "    </tr>\n",
       "    <tr>\n",
       "      <th>unique</th>\n",
       "      <td>NaN</td>\n",
       "      <td>2</td>\n",
       "      <td>2</td>\n",
       "      <td>NaN</td>\n",
       "      <td>2</td>\n",
       "      <td>2</td>\n",
       "      <td>5</td>\n",
       "      <td>NaN</td>\n",
       "      <td>2</td>\n",
       "      <td>4</td>\n",
       "      <td>11</td>\n",
       "      <td>6</td>\n",
       "      <td>2</td>\n",
       "      <td>2</td>\n",
       "      <td>4</td>\n",
       "      <td>3</td>\n",
       "      <td>5</td>\n",
       "      <td>2</td>\n",
       "      <td>NaN</td>\n",
       "      <td>NaN</td>\n",
       "    </tr>\n",
       "    <tr>\n",
       "      <th>top</th>\n",
       "      <td>NaN</td>\n",
       "      <td>NO</td>\n",
       "      <td>NO</td>\n",
       "      <td>NaN</td>\n",
       "      <td>NO</td>\n",
       "      <td>SI</td>\n",
       "      <td>FLUOROQUINOLONA_AMINOGLICOSIDO</td>\n",
       "      <td>NaN</td>\n",
       "      <td>NO</td>\n",
       "      <td>NO</td>\n",
       "      <td>NEG</td>\n",
       "      <td>NO</td>\n",
       "      <td>NO</td>\n",
       "      <td>NO</td>\n",
       "      <td>NO</td>\n",
       "      <td>NO</td>\n",
       "      <td>NO</td>\n",
       "      <td>NO</td>\n",
       "      <td>NaN</td>\n",
       "      <td>NaN</td>\n",
       "    </tr>\n",
       "    <tr>\n",
       "      <th>freq</th>\n",
       "      <td>NaN</td>\n",
       "      <td>505</td>\n",
       "      <td>563</td>\n",
       "      <td>NaN</td>\n",
       "      <td>510</td>\n",
       "      <td>408</td>\n",
       "      <td>448</td>\n",
       "      <td>NaN</td>\n",
       "      <td>563</td>\n",
       "      <td>546</td>\n",
       "      <td>322</td>\n",
       "      <td>542</td>\n",
       "      <td>531</td>\n",
       "      <td>562</td>\n",
       "      <td>560</td>\n",
       "      <td>543</td>\n",
       "      <td>561</td>\n",
       "      <td>541</td>\n",
       "      <td>NaN</td>\n",
       "      <td>NaN</td>\n",
       "    </tr>\n",
       "    <tr>\n",
       "      <th>mean</th>\n",
       "      <td>63.882042</td>\n",
       "      <td>NaN</td>\n",
       "      <td>NaN</td>\n",
       "      <td>13.271401</td>\n",
       "      <td>NaN</td>\n",
       "      <td>NaN</td>\n",
       "      <td>NaN</td>\n",
       "      <td>12.996479</td>\n",
       "      <td>NaN</td>\n",
       "      <td>NaN</td>\n",
       "      <td>NaN</td>\n",
       "      <td>NaN</td>\n",
       "      <td>NaN</td>\n",
       "      <td>NaN</td>\n",
       "      <td>NaN</td>\n",
       "      <td>NaN</td>\n",
       "      <td>NaN</td>\n",
       "      <td>NaN</td>\n",
       "      <td>0.165493</td>\n",
       "      <td>0.014085</td>\n",
       "    </tr>\n",
       "    <tr>\n",
       "      <th>std</th>\n",
       "      <td>9.281517</td>\n",
       "      <td>NaN</td>\n",
       "      <td>NaN</td>\n",
       "      <td>15.668966</td>\n",
       "      <td>NaN</td>\n",
       "      <td>NaN</td>\n",
       "      <td>NaN</td>\n",
       "      <td>3.921180</td>\n",
       "      <td>NaN</td>\n",
       "      <td>NaN</td>\n",
       "      <td>NaN</td>\n",
       "      <td>NaN</td>\n",
       "      <td>NaN</td>\n",
       "      <td>NaN</td>\n",
       "      <td>NaN</td>\n",
       "      <td>NaN</td>\n",
       "      <td>NaN</td>\n",
       "      <td>NaN</td>\n",
       "      <td>0.958066</td>\n",
       "      <td>0.196474</td>\n",
       "    </tr>\n",
       "    <tr>\n",
       "      <th>min</th>\n",
       "      <td>39.000000</td>\n",
       "      <td>NaN</td>\n",
       "      <td>NaN</td>\n",
       "      <td>0.600000</td>\n",
       "      <td>NaN</td>\n",
       "      <td>NaN</td>\n",
       "      <td>NaN</td>\n",
       "      <td>4.000000</td>\n",
       "      <td>NaN</td>\n",
       "      <td>NaN</td>\n",
       "      <td>NaN</td>\n",
       "      <td>NaN</td>\n",
       "      <td>NaN</td>\n",
       "      <td>NaN</td>\n",
       "      <td>NaN</td>\n",
       "      <td>NaN</td>\n",
       "      <td>NaN</td>\n",
       "      <td>NaN</td>\n",
       "      <td>0.000000</td>\n",
       "      <td>0.000000</td>\n",
       "    </tr>\n",
       "    <tr>\n",
       "      <th>25%</th>\n",
       "      <td>59.000000</td>\n",
       "      <td>NaN</td>\n",
       "      <td>NaN</td>\n",
       "      <td>5.600000</td>\n",
       "      <td>NaN</td>\n",
       "      <td>NaN</td>\n",
       "      <td>NaN</td>\n",
       "      <td>12.000000</td>\n",
       "      <td>NaN</td>\n",
       "      <td>NaN</td>\n",
       "      <td>NaN</td>\n",
       "      <td>NaN</td>\n",
       "      <td>NaN</td>\n",
       "      <td>NaN</td>\n",
       "      <td>NaN</td>\n",
       "      <td>NaN</td>\n",
       "      <td>NaN</td>\n",
       "      <td>NaN</td>\n",
       "      <td>0.000000</td>\n",
       "      <td>0.000000</td>\n",
       "    </tr>\n",
       "    <tr>\n",
       "      <th>50%</th>\n",
       "      <td>64.000000</td>\n",
       "      <td>NaN</td>\n",
       "      <td>NaN</td>\n",
       "      <td>8.000000</td>\n",
       "      <td>NaN</td>\n",
       "      <td>NaN</td>\n",
       "      <td>NaN</td>\n",
       "      <td>12.000000</td>\n",
       "      <td>NaN</td>\n",
       "      <td>NaN</td>\n",
       "      <td>NaN</td>\n",
       "      <td>NaN</td>\n",
       "      <td>NaN</td>\n",
       "      <td>NaN</td>\n",
       "      <td>NaN</td>\n",
       "      <td>NaN</td>\n",
       "      <td>NaN</td>\n",
       "      <td>NaN</td>\n",
       "      <td>0.000000</td>\n",
       "      <td>0.000000</td>\n",
       "    </tr>\n",
       "    <tr>\n",
       "      <th>75%</th>\n",
       "      <td>69.000000</td>\n",
       "      <td>NaN</td>\n",
       "      <td>NaN</td>\n",
       "      <td>15.000000</td>\n",
       "      <td>NaN</td>\n",
       "      <td>NaN</td>\n",
       "      <td>NaN</td>\n",
       "      <td>12.000000</td>\n",
       "      <td>NaN</td>\n",
       "      <td>NaN</td>\n",
       "      <td>NaN</td>\n",
       "      <td>NaN</td>\n",
       "      <td>NaN</td>\n",
       "      <td>NaN</td>\n",
       "      <td>NaN</td>\n",
       "      <td>NaN</td>\n",
       "      <td>NaN</td>\n",
       "      <td>NaN</td>\n",
       "      <td>0.000000</td>\n",
       "      <td>0.000000</td>\n",
       "    </tr>\n",
       "    <tr>\n",
       "      <th>max</th>\n",
       "      <td>151.000000</td>\n",
       "      <td>NaN</td>\n",
       "      <td>NaN</td>\n",
       "      <td>100.000000</td>\n",
       "      <td>NaN</td>\n",
       "      <td>NaN</td>\n",
       "      <td>NaN</td>\n",
       "      <td>24.000000</td>\n",
       "      <td>NaN</td>\n",
       "      <td>NaN</td>\n",
       "      <td>NaN</td>\n",
       "      <td>NaN</td>\n",
       "      <td>NaN</td>\n",
       "      <td>NaN</td>\n",
       "      <td>NaN</td>\n",
       "      <td>NaN</td>\n",
       "      <td>NaN</td>\n",
       "      <td>NaN</td>\n",
       "      <td>12.000000</td>\n",
       "      <td>3.000000</td>\n",
       "    </tr>\n",
       "  </tbody>\n",
       "</table>\n",
       "</div>"
      ],
      "text/plain": [
       "              EDAD DIABETES HOSPITALIZACIÓN ULTIMO MES         PSA   \n",
       "count   568.000000      568                        568  564.000000  \\\n",
       "unique         NaN        2                          2         NaN   \n",
       "top            NaN       NO                         NO         NaN   \n",
       "freq           NaN      505                        563         NaN   \n",
       "mean     63.882042      NaN                        NaN   13.271401   \n",
       "std       9.281517      NaN                        NaN   15.668966   \n",
       "min      39.000000      NaN                        NaN    0.600000   \n",
       "25%      59.000000      NaN                        NaN    5.600000   \n",
       "50%      64.000000      NaN                        NaN    8.000000   \n",
       "75%      69.000000      NaN                        NaN   15.000000   \n",
       "max     151.000000      NaN                        NaN  100.000000   \n",
       "\n",
       "       BIOPSIAS PREVIAS VOLUMEN PROSTATICO   \n",
       "count               566                567  \\\n",
       "unique                2                  2   \n",
       "top                  NO                 SI   \n",
       "freq                510                408   \n",
       "mean                NaN                NaN   \n",
       "std                 NaN                NaN   \n",
       "min                 NaN                NaN   \n",
       "25%                 NaN                NaN   \n",
       "50%                 NaN                NaN   \n",
       "75%                 NaN                NaN   \n",
       "max                 NaN                NaN   \n",
       "\n",
       "       ANTIBIOTICO UTILIAZADO EN LA PROFILAXIS  NUMERO DE MUESTRAS TOMADAS   \n",
       "count                                      568                  568.000000  \\\n",
       "unique                                       5                         NaN   \n",
       "top             FLUOROQUINOLONA_AMINOGLICOSIDO                         NaN   \n",
       "freq                                       448                         NaN   \n",
       "mean                                       NaN                   12.996479   \n",
       "std                                        NaN                    3.921180   \n",
       "min                                        NaN                    4.000000   \n",
       "25%                                        NaN                   12.000000   \n",
       "50%                                        NaN                   12.000000   \n",
       "75%                                        NaN                   12.000000   \n",
       "max                                        NaN                   24.000000   \n",
       "\n",
       "        CUP ENF. CRONICA PULMONAR OBSTRUCTIVA BIOPSIA   \n",
       "count   567                               566     568  \\\n",
       "unique    2                                 4      11   \n",
       "top      NO                                NO     NEG   \n",
       "freq    563                               546     322   \n",
       "mean    NaN                               NaN     NaN   \n",
       "std     NaN                               NaN     NaN   \n",
       "min     NaN                               NaN     NaN   \n",
       "25%     NaN                               NaN     NaN   \n",
       "50%     NaN                               NaN     NaN   \n",
       "75%     NaN                               NaN     NaN   \n",
       "max     NaN                               NaN     NaN   \n",
       "\n",
       "       NUMERO DE DIAS POST BIOPSIA EN QUE SE PRESENTA LA COMPLICACIÓN INFECCIOSA   \n",
       "count                                                 568                         \\\n",
       "unique                                                  6                          \n",
       "top                                                    NO                          \n",
       "freq                                                  542                          \n",
       "mean                                                  NaN                          \n",
       "std                                                   NaN                          \n",
       "min                                                   NaN                          \n",
       "25%                                                   NaN                          \n",
       "50%                                                   NaN                          \n",
       "75%                                                   NaN                          \n",
       "max                                                   NaN                          \n",
       "\n",
       "       FIEBRE  ITU TIPO DE CULTIVO AGENTE AISLADO PATRON DE RESISTENCIA   \n",
       "count     568  568             568            551                   568  \\\n",
       "unique      2    2               4              3                     5   \n",
       "top        NO   NO              NO             NO                    NO   \n",
       "freq      531  562             560            543                   561   \n",
       "mean      NaN  NaN             NaN            NaN                   NaN   \n",
       "std       NaN  NaN             NaN            NaN                   NaN   \n",
       "min       NaN  NaN             NaN            NaN                   NaN   \n",
       "25%       NaN  NaN             NaN            NaN                   NaN   \n",
       "50%       NaN  NaN             NaN            NaN                   NaN   \n",
       "75%       NaN  NaN             NaN            NaN                   NaN   \n",
       "max       NaN  NaN             NaN            NaN                   NaN   \n",
       "\n",
       "       HOSPITALIZACION  DIAS HOSPITALIZACION MQ  DIAS HOSPITALIZACIÓN UPC  \n",
       "count              565               568.000000                568.000000  \n",
       "unique               2                      NaN                       NaN  \n",
       "top                 NO                      NaN                       NaN  \n",
       "freq               541                      NaN                       NaN  \n",
       "mean               NaN                 0.165493                  0.014085  \n",
       "std                NaN                 0.958066                  0.196474  \n",
       "min                NaN                 0.000000                  0.000000  \n",
       "25%                NaN                 0.000000                  0.000000  \n",
       "50%                NaN                 0.000000                  0.000000  \n",
       "75%                NaN                 0.000000                  0.000000  \n",
       "max                NaN                12.000000                  3.000000  "
      ]
     },
     "execution_count": 1084,
     "metadata": {},
     "output_type": "execute_result"
    }
   ],
   "source": [
    "data.describe(include='all')"
   ]
  },
  {
   "cell_type": "markdown",
   "metadata": {},
   "source": [
    "### 2.2 Eliminacion de variables irrelevantes\n",
    "En el planteo de la problemática se define como 'caso' al paciente que fue sometido a biopsia y que luego de 30 dias presentó fiebre, infección urinaria o sepsis. De esta manera, el grupo de variables del tipo 'Complicaciones Infecciosas' nos indican que la persona presenta alguno de estos síntomas y no queremos añadirlo al modelo porque genera un sesgo. "
   ]
  },
  {
   "cell_type": "code",
   "execution_count": 1085,
   "metadata": {},
   "outputs": [
    {
     "data": {
      "text/plain": [
       "Index(['EDAD', 'DIABETES', 'HOSPITALIZACIÓN ULTIMO MES', 'PSA',\n",
       "       'BIOPSIAS PREVIAS', 'VOLUMEN PROSTATICO',\n",
       "       'ANTIBIOTICO UTILIAZADO EN LA PROFILAXIS', 'NUMERO DE MUESTRAS TOMADAS',\n",
       "       'CUP', 'ENF. CRONICA PULMONAR OBSTRUCTIVA', 'BIOPSIA',\n",
       "       'HOSPITALIZACION'],\n",
       "      dtype='object')"
      ]
     },
     "execution_count": 1085,
     "metadata": {},
     "output_type": "execute_result"
    }
   ],
   "source": [
    "col_sesgo = [ 'NUMERO DE DIAS POST BIOPSIA EN QUE SE PRESENTA LA COMPLICACIÓN INFECCIOSA',\n",
    "             'FIEBRE',\n",
    "             'ITU',\n",
    "             'TIPO DE CULTIVO',\n",
    "             'AGENTE AISLADO',\n",
    "             'PATRON DE RESISTENCIA',\n",
    "             'DIAS HOSPITALIZACION MQ',\n",
    "             'DIAS HOSPITALIZACIÓN UPC']\n",
    "\n",
    "data.drop(col_sesgo,axis=1,inplace=True)\n",
    "\n",
    "data.columns"
   ]
  },
  {
   "cell_type": "markdown",
   "metadata": {},
   "source": [
    "### 2.3 Distribución estadistica para variables numéricas"
   ]
  },
  {
   "cell_type": "code",
   "execution_count": 1086,
   "metadata": {},
   "outputs": [
    {
     "data": {
      "image/png": "[encoded data removed]",
      "text/plain": [
       "<Figure size 1000x600 with 1 Axes>"
      ]
     },
     "metadata": {},
     "output_type": "display_data"
    },
    {
     "data": {
      "image/png": "[encoded data removed]",
      "text/plain": [
       "<Figure size 1000x600 with 1 Axes>"
      ]
     },
     "metadata": {},
     "output_type": "display_data"
    },
    {
     "data": {
      "image/png": "[encoded data removed]",
      "text/plain": [
       "<Figure size 1000x600 with 1 Axes>"
      ]
     },
     "metadata": {},
     "output_type": "display_data"
    }
   ],
   "source": [
    "## Histograma EDAD\n",
    "plt.figure(figsize=(10, 6)) \n",
    "sns.histplot(data, x=\"EDAD\", kde=True, color=\"blue\")\n",
    "\n",
    "plt.xlabel(\"Valores\")\n",
    "plt.ylabel(\"Frecuencia\")\n",
    "plt.title(\"Histogramas Edad\")\n",
    "\n",
    "## Histograma PSA\n",
    "plt.figure(figsize=(10, 6)) \n",
    "sns.histplot(data, x=\"PSA\", kde=True, color=\"green\")\n",
    "\n",
    "plt.xlabel(\"Valores\")\n",
    "plt.ylabel(\"Frecuencia\")\n",
    "plt.title(\"Histogramas PSA\")\n",
    "\n",
    "## Histograma NUMERO DE MUESTRAS TOMADAS\n",
    "plt.figure(figsize=(10, 6)) \n",
    "sns.histplot(data, x=\"NUMERO DE MUESTRAS TOMADAS\", kde=True, color=\"red\")\n",
    "\n",
    "plt.xlabel(\"Valores\")\n",
    "plt.ylabel(\"Frecuencia\")\n",
    "plt.title(\"Histogramas Nro. Muestras\")\n",
    "\n",
    "# Mostrar el gráfico\n",
    "plt.show()\n",
    "plt.show()\n",
    "plt.show()\n"
   ]
  },
  {
   "cell_type": "markdown",
   "metadata": {},
   "source": [
    "### 2.4 Frecuencia de variables categóricas"
   ]
  },
  {
   "cell_type": "code",
   "execution_count": 1087,
   "metadata": {},
   "outputs": [
    {
     "name": "stderr",
     "output_type": "stream",
     "text": [
      "/var/folders/8z/m3nmk2f90k7cx5y5spf813240000gn/T/ipykernel_48313/231483503.py:18: UserWarning: Tight layout not applied. The left and right margins cannot be made large enough to accommodate all axes decorations.\n",
      "  plt.tight_layout(rect=[10, 10, -5, 0.8])\n"
     ]
    },
    {
     "data": {
      "image/png": "[encoded data removed]",
      "text/plain": [
       "<Figure size 1200x2000 with 8 Axes>"
      ]
     },
     "metadata": {},
     "output_type": "display_data"
    }
   ],
   "source": [
    "def plot_bar_plots(data):\n",
    "    variables_categoricas = ['DIABETES', 'HOSPITALIZACIÓN ULTIMO MES', \n",
    "                             'BIOPSIAS PREVIAS',\n",
    "                            'VOLUMEN PROSTATICO',\n",
    "                            'CUP', \n",
    "                            'ENF. CRONICA PULMONAR OBSTRUCTIVA','BIOPSIA' , \n",
    "                            'ANTIBIOTICO UTILIAZADO EN LA PROFILAXIS']\n",
    "                            \n",
    "    fig, axes = plt.subplots(4, 2, figsize=(12, 20))\n",
    "    fig.suptitle('Variables Categoricas')\n",
    "    axes = axes.flatten()\n",
    "    for i, feature in enumerate(variables_categoricas):\n",
    "        sns.countplot(x=data[feature], ax=axes[i])\n",
    "        axes[i].set_title(feature)\n",
    "        axes[i].set_xlabel(None)\n",
    "        axes[i].set_ylabel('')\n",
    "        axes[i].tick_params(axis='x', rotation=45)\n",
    "    plt.tight_layout(rect=[10, 10, -5, 0.8])\n",
    "\n",
    "plot_bar_plots(data)\n",
    "plt.show()"
   ]
  },
  {
   "cell_type": "markdown",
   "metadata": {},
   "source": [
    "### 2.5 Tratamiento de valores nulos"
   ]
  },
  {
   "cell_type": "code",
   "execution_count": 1088,
   "metadata": {},
   "outputs": [
    {
     "data": {
      "text/plain": [
       "EDAD                                       2\n",
       "DIABETES                                   2\n",
       "HOSPITALIZACIÓN ULTIMO MES                 2\n",
       "PSA                                        6\n",
       "BIOPSIAS PREVIAS                           4\n",
       "VOLUMEN PROSTATICO                         3\n",
       "ANTIBIOTICO UTILIAZADO EN LA PROFILAXIS    2\n",
       "NUMERO DE MUESTRAS TOMADAS                 2\n",
       "CUP                                        3\n",
       "ENF. CRONICA PULMONAR OBSTRUCTIVA          4\n",
       "BIOPSIA                                    2\n",
       "HOSPITALIZACION                            5\n",
       "dtype: int64"
      ]
     },
     "execution_count": 1088,
     "metadata": {},
     "output_type": "execute_result"
    }
   ],
   "source": [
    "## Visualizamos la cantidad de nulos por columna\n",
    "\n",
    "nulos = data.isnull().sum()\n",
    "nulos\n"
   ]
  },
  {
   "cell_type": "markdown",
   "metadata": {},
   "source": [
    "**2.5.1 Variable objetivo 'Hospitalización'**\n",
    "\n",
    "Nuestra variable objetivo presenta 5 valores nulos, por lo que procedemos a eliminarlos."
   ]
  },
  {
   "cell_type": "code",
   "execution_count": 1089,
   "metadata": {},
   "outputs": [
    {
     "name": "stdout",
     "output_type": "stream",
     "text": [
      "Cantidad de registros considerando valores nulos: 570\n",
      "Cantidad de registros luego de la eliminacion: 565\n"
     ]
    }
   ],
   "source": [
    "print('Cantidad de registros considerando valores nulos:', data.shape[0])\n",
    "data.dropna(subset=['HOSPITALIZACION'], inplace = True)\n",
    "print('Cantidad de registros luego de la eliminacion:', data.shape[0])\n"
   ]
  },
  {
   "cell_type": "markdown",
   "metadata": {},
   "source": [
    "**2.5.2 Variable numéricas**\n",
    "\n",
    "A las variables numéricas las reemplazamos por la el valor de la media"
   ]
  },
  {
   "cell_type": "code",
   "execution_count": 1090,
   "metadata": {},
   "outputs": [],
   "source": [
    "media_edad = round(data.EDAD.mean(),2)\n",
    "data.EDAD.fillna(media_edad,inplace=True)\n",
    "\n",
    "media_psa = round(data.PSA.mean(),2)\n",
    "data.PSA.fillna(media_psa,inplace=True)\n",
    "\n",
    "media_nro_muestras = round(data['NUMERO DE MUESTRAS TOMADAS'].mean(),2)\n",
    "data['NUMERO DE MUESTRAS TOMADAS'].fillna(media_nro_muestras,inplace=True)\n",
    "\n"
   ]
  },
  {
   "cell_type": "markdown",
   "metadata": {},
   "source": [
    "**2.5.3 Variables restantes**\n",
    "\n",
    "Eliminamos los valores nulos "
   ]
  },
  {
   "cell_type": "code",
   "execution_count": 1091,
   "metadata": {},
   "outputs": [],
   "source": [
    "restantes = ['BIOPSIAS PREVIAS', \n",
    "             'VOLUMEN PROSTATICO',\n",
    "             'CUP',\n",
    "             'ENF. CRONICA PULMONAR OBSTRUCTIVA']\n",
    "\n",
    "data.dropna(subset=restantes, inplace = True)"
   ]
  },
  {
   "cell_type": "code",
   "execution_count": 1092,
   "metadata": {},
   "outputs": [
    {
     "data": {
      "text/plain": [
       "EDAD                                       0\n",
       "DIABETES                                   0\n",
       "HOSPITALIZACIÓN ULTIMO MES                 0\n",
       "PSA                                        0\n",
       "BIOPSIAS PREVIAS                           0\n",
       "VOLUMEN PROSTATICO                         0\n",
       "ANTIBIOTICO UTILIAZADO EN LA PROFILAXIS    0\n",
       "NUMERO DE MUESTRAS TOMADAS                 0\n",
       "CUP                                        0\n",
       "ENF. CRONICA PULMONAR OBSTRUCTIVA          0\n",
       "BIOPSIA                                    0\n",
       "HOSPITALIZACION                            0\n",
       "dtype: int64"
      ]
     },
     "execution_count": 1092,
     "metadata": {},
     "output_type": "execute_result"
    }
   ],
   "source": [
    "data.isnull().sum()"
   ]
  },
  {
   "cell_type": "markdown",
   "metadata": {},
   "source": [
    "### 2.6 Normalización de variables categoricas\n",
    "Buscamos valores repetidos o anomalos y generamos las correcciones pertinentes."
   ]
  },
  {
   "cell_type": "markdown",
   "metadata": {},
   "source": [
    "**2.6.1 Antibioticos**"
   ]
  },
  {
   "cell_type": "code",
   "execution_count": 1093,
   "metadata": {},
   "outputs": [
    {
     "data": {
      "text/plain": [
       "array(['FLUOROQUINOLONA_AMINOGLICOSIDO', 'CEFALOSPORINA_AMINOGLUCOCIDO',\n",
       "       'OROQUINOLONAS', 'FLUOROQUINOLONA_AMINOGLICÓSIDO', 'OTROS'],\n",
       "      dtype=object)"
      ]
     },
     "execution_count": 1093,
     "metadata": {},
     "output_type": "execute_result"
    }
   ],
   "source": [
    "data['ANTIBIOTICO UTILIAZADO EN LA PROFILAXIS'].unique()"
   ]
  },
  {
   "cell_type": "code",
   "execution_count": 1094,
   "metadata": {},
   "outputs": [],
   "source": [
    "## Reemplazamos valores \n",
    "\n",
    "cambio = {'FLUOROQUINOLONA_AMINOGLICÓSIDO':'FLUOROQUINOLONA_AMINOGLICOSIDO'}\n",
    "data['ANTIBIOTICO UTILIAZADO EN LA PROFILAXIS'] = data['ANTIBIOTICO UTILIAZADO EN LA PROFILAXIS'].replace(cambio)"
   ]
  },
  {
   "cell_type": "markdown",
   "metadata": {},
   "source": [
    "**2.6.2 Biopsia**"
   ]
  },
  {
   "cell_type": "code",
   "execution_count": 1095,
   "metadata": {},
   "outputs": [
    {
     "data": {
      "text/plain": [
       "array(['NEG', 'ADENOCARCINOMA GLEASON 6 ', 'ADENOCARCINOMA GLEASON 7 ',\n",
       "       'ADENOCARCINOMA GLEASON 6', 'ADENOCARCINOMA GLEASON 10 ',\n",
       "       'ADENOCARCINOMA GLEASON 9 ', 'ADENOCARCINOMA GLEASON 8 ',\n",
       "       'PROSTATITIS', 'HIPERPLASIA PROSTATICA',\n",
       "       'ADENOCARCINOMA GLEASON 7',\n",
       "       'CARCINOMA INDIFERENCIADO DE CELULAS CLARAS'], dtype=object)"
      ]
     },
     "execution_count": 1095,
     "metadata": {},
     "output_type": "execute_result"
    }
   ],
   "source": [
    "data['BIOPSIA'].unique()"
   ]
  },
  {
   "cell_type": "code",
   "execution_count": 1096,
   "metadata": {},
   "outputs": [],
   "source": [
    "data['BIOPSIA'] = data['BIOPSIA'].str.strip()"
   ]
  },
  {
   "cell_type": "markdown",
   "metadata": {},
   "source": [
    "**2.6.3 Enf. Crónica**"
   ]
  },
  {
   "cell_type": "code",
   "execution_count": 1097,
   "metadata": {},
   "outputs": [
    {
     "data": {
      "text/plain": [
       "array(['NO', 'SI, EPOC', 'SI, ASMA', 'SI'], dtype=object)"
      ]
     },
     "execution_count": 1097,
     "metadata": {},
     "output_type": "execute_result"
    }
   ],
   "source": [
    "data['ENF. CRONICA PULMONAR OBSTRUCTIVA'].unique()"
   ]
  },
  {
   "cell_type": "code",
   "execution_count": 1098,
   "metadata": {},
   "outputs": [],
   "source": [
    "data['ENF. CRONICA PULMONAR OBSTRUCTIVA'] = data['ENF. CRONICA PULMONAR OBSTRUCTIVA'].replace('SI, EPOC','SI')\n",
    "data['ENF. CRONICA PULMONAR OBSTRUCTIVA'] = data['ENF. CRONICA PULMONAR OBSTRUCTIVA'].replace('SI, ASMA','SI')"
   ]
  },
  {
   "cell_type": "markdown",
   "metadata": {},
   "source": [
    "### 2.7 Matriz de correlación"
   ]
  },
  {
   "cell_type": "markdown",
   "metadata": {},
   "source": [
    "**2.7.1 Correlación variables numericas**"
   ]
  },
  {
   "cell_type": "code",
   "execution_count": 1099,
   "metadata": {},
   "outputs": [
    {
     "data": {
      "image/png": "[encoded data removed]",
      "text/plain": [
       "<Figure size 1000x700 with 2 Axes>"
      ]
     },
     "metadata": {},
     "output_type": "display_data"
    }
   ],
   "source": [
    "variables_numericas = ['EDAD', 'PSA', 'NUMERO DE MUESTRAS TOMADAS']\n",
    "\n",
    "corr = data[variables_numericas].corr()\n",
    "\n",
    "plt.figure(figsize=(10,7))\n",
    "sns.heatmap(corr, cbar = True,  square = True, annot=True, fmt= '.2f',annot_kws={'size': 15},\n",
    "           xticklabels= variables_numericas,\n",
    "           yticklabels= variables_numericas,\n",
    "           cmap= 'crest')\n",
    "plt.show()"
   ]
  },
  {
   "cell_type": "markdown",
   "metadata": {},
   "source": [
    "### 2.8 Generamos Dummies para modelar"
   ]
  },
  {
   "cell_type": "code",
   "execution_count": 1100,
   "metadata": {},
   "outputs": [
    {
     "data": {
      "text/html": [
       "<div>\n",
       "<style scoped>\n",
       "    .dataframe tbody tr th:only-of-type {\n",
       "        vertical-align: middle;\n",
       "    }\n",
       "\n",
       "    .dataframe tbody tr th {\n",
       "        vertical-align: top;\n",
       "    }\n",
       "\n",
       "    .dataframe thead th {\n",
       "        text-align: right;\n",
       "    }\n",
       "</style>\n",
       "<table border=\"1\" class=\"dataframe\">\n",
       "  <thead>\n",
       "    <tr style=\"text-align: right;\">\n",
       "      <th></th>\n",
       "      <th>EDAD</th>\n",
       "      <th>DIABETES</th>\n",
       "      <th>HOSPITALIZACIÓN ULTIMO MES</th>\n",
       "      <th>PSA</th>\n",
       "      <th>BIOPSIAS PREVIAS</th>\n",
       "      <th>VOLUMEN PROSTATICO</th>\n",
       "      <th>ANTIBIOTICO UTILIAZADO EN LA PROFILAXIS</th>\n",
       "      <th>NUMERO DE MUESTRAS TOMADAS</th>\n",
       "      <th>CUP</th>\n",
       "      <th>ENF. CRONICA PULMONAR OBSTRUCTIVA</th>\n",
       "      <th>BIOPSIA</th>\n",
       "      <th>HOSPITALIZACION</th>\n",
       "    </tr>\n",
       "  </thead>\n",
       "  <tbody>\n",
       "    <tr>\n",
       "      <th>0</th>\n",
       "      <td>53.0</td>\n",
       "      <td>0</td>\n",
       "      <td>0</td>\n",
       "      <td>4.0</td>\n",
       "      <td>0</td>\n",
       "      <td>1</td>\n",
       "      <td>FLUOROQUINOLONA_AMINOGLICOSIDO</td>\n",
       "      <td>12.0</td>\n",
       "      <td>0</td>\n",
       "      <td>0</td>\n",
       "      <td>NEG</td>\n",
       "      <td>1</td>\n",
       "    </tr>\n",
       "    <tr>\n",
       "      <th>1</th>\n",
       "      <td>56.0</td>\n",
       "      <td>0</td>\n",
       "      <td>0</td>\n",
       "      <td>7.7</td>\n",
       "      <td>0</td>\n",
       "      <td>1</td>\n",
       "      <td>FLUOROQUINOLONA_AMINOGLICOSIDO</td>\n",
       "      <td>12.0</td>\n",
       "      <td>0</td>\n",
       "      <td>0</td>\n",
       "      <td>NEG</td>\n",
       "      <td>1</td>\n",
       "    </tr>\n",
       "    <tr>\n",
       "      <th>2</th>\n",
       "      <td>57.0</td>\n",
       "      <td>0</td>\n",
       "      <td>0</td>\n",
       "      <td>29.0</td>\n",
       "      <td>1</td>\n",
       "      <td>1</td>\n",
       "      <td>FLUOROQUINOLONA_AMINOGLICOSIDO</td>\n",
       "      <td>24.0</td>\n",
       "      <td>0</td>\n",
       "      <td>0</td>\n",
       "      <td>NEG</td>\n",
       "      <td>1</td>\n",
       "    </tr>\n",
       "  </tbody>\n",
       "</table>\n",
       "</div>"
      ],
      "text/plain": [
       "   EDAD  DIABETES  HOSPITALIZACIÓN ULTIMO MES   PSA  BIOPSIAS PREVIAS   \n",
       "0  53.0         0                           0   4.0                 0  \\\n",
       "1  56.0         0                           0   7.7                 0   \n",
       "2  57.0         0                           0  29.0                 1   \n",
       "\n",
       "   VOLUMEN PROSTATICO ANTIBIOTICO UTILIAZADO EN LA PROFILAXIS   \n",
       "0                   1          FLUOROQUINOLONA_AMINOGLICOSIDO  \\\n",
       "1                   1          FLUOROQUINOLONA_AMINOGLICOSIDO   \n",
       "2                   1          FLUOROQUINOLONA_AMINOGLICOSIDO   \n",
       "\n",
       "   NUMERO DE MUESTRAS TOMADAS  CUP  ENF. CRONICA PULMONAR OBSTRUCTIVA BIOPSIA   \n",
       "0                        12.0    0                                  0     NEG  \\\n",
       "1                        12.0    0                                  0     NEG   \n",
       "2                        24.0    0                                  0     NEG   \n",
       "\n",
       "   HOSPITALIZACION  \n",
       "0                1  \n",
       "1                1  \n",
       "2                1  "
      ]
     },
     "execution_count": 1100,
     "metadata": {},
     "output_type": "execute_result"
    }
   ],
   "source": [
    "## Variables Binarias\n",
    "\n",
    "corr = {\"NO\": 0, \"SI\": 1}\n",
    "\n",
    "columnas = ['DIABETES', \n",
    "                          'HOSPITALIZACIÓN ULTIMO MES', \n",
    "                          'BIOPSIAS PREVIAS',\n",
    "                          'VOLUMEN PROSTATICO',\n",
    "                          'CUP', \n",
    "                          'ENF. CRONICA PULMONAR OBSTRUCTIVA',\n",
    "                          'HOSPITALIZACION']\n",
    "\n",
    "data[columnas] = data[columnas].replace(corr)\n",
    "data.head(3)"
   ]
  },
  {
   "cell_type": "code",
   "execution_count": 1101,
   "metadata": {},
   "outputs": [
    {
     "data": {
      "text/html": [
       "<div>\n",
       "<style scoped>\n",
       "    .dataframe tbody tr th:only-of-type {\n",
       "        vertical-align: middle;\n",
       "    }\n",
       "\n",
       "    .dataframe tbody tr th {\n",
       "        vertical-align: top;\n",
       "    }\n",
       "\n",
       "    .dataframe thead th {\n",
       "        text-align: right;\n",
       "    }\n",
       "</style>\n",
       "<table border=\"1\" class=\"dataframe\">\n",
       "  <thead>\n",
       "    <tr style=\"text-align: right;\">\n",
       "      <th></th>\n",
       "      <th>EDAD</th>\n",
       "      <th>DIABETES</th>\n",
       "      <th>HOSPITALIZACIÓN ULTIMO MES</th>\n",
       "      <th>PSA</th>\n",
       "      <th>BIOPSIAS PREVIAS</th>\n",
       "      <th>VOLUMEN PROSTATICO</th>\n",
       "      <th>NUMERO DE MUESTRAS TOMADAS</th>\n",
       "      <th>CUP</th>\n",
       "      <th>ENF. CRONICA PULMONAR OBSTRUCTIVA</th>\n",
       "      <th>HOSPITALIZACION</th>\n",
       "      <th>...</th>\n",
       "      <th>BIOPSIA_ADENOCARCINOMA GLEASON 8</th>\n",
       "      <th>BIOPSIA_ADENOCARCINOMA GLEASON 9</th>\n",
       "      <th>BIOPSIA_CARCINOMA INDIFERENCIADO DE CELULAS CLARAS</th>\n",
       "      <th>BIOPSIA_HIPERPLASIA PROSTATICA</th>\n",
       "      <th>BIOPSIA_NEG</th>\n",
       "      <th>BIOPSIA_PROSTATITIS</th>\n",
       "      <th>ANTIBIOTICO USADO_CEFALOSPORINA_AMINOGLUCOCIDO</th>\n",
       "      <th>ANTIBIOTICO USADO_FLUOROQUINOLONA_AMINOGLICOSIDO</th>\n",
       "      <th>ANTIBIOTICO USADO_OROQUINOLONAS</th>\n",
       "      <th>ANTIBIOTICO USADO_OTROS</th>\n",
       "    </tr>\n",
       "  </thead>\n",
       "  <tbody>\n",
       "    <tr>\n",
       "      <th>0</th>\n",
       "      <td>53.0</td>\n",
       "      <td>0</td>\n",
       "      <td>0</td>\n",
       "      <td>4.0</td>\n",
       "      <td>0</td>\n",
       "      <td>1</td>\n",
       "      <td>12.0</td>\n",
       "      <td>0</td>\n",
       "      <td>0</td>\n",
       "      <td>1</td>\n",
       "      <td>...</td>\n",
       "      <td>False</td>\n",
       "      <td>False</td>\n",
       "      <td>False</td>\n",
       "      <td>False</td>\n",
       "      <td>True</td>\n",
       "      <td>False</td>\n",
       "      <td>False</td>\n",
       "      <td>True</td>\n",
       "      <td>False</td>\n",
       "      <td>False</td>\n",
       "    </tr>\n",
       "    <tr>\n",
       "      <th>1</th>\n",
       "      <td>56.0</td>\n",
       "      <td>0</td>\n",
       "      <td>0</td>\n",
       "      <td>7.7</td>\n",
       "      <td>0</td>\n",
       "      <td>1</td>\n",
       "      <td>12.0</td>\n",
       "      <td>0</td>\n",
       "      <td>0</td>\n",
       "      <td>1</td>\n",
       "      <td>...</td>\n",
       "      <td>False</td>\n",
       "      <td>False</td>\n",
       "      <td>False</td>\n",
       "      <td>False</td>\n",
       "      <td>True</td>\n",
       "      <td>False</td>\n",
       "      <td>False</td>\n",
       "      <td>True</td>\n",
       "      <td>False</td>\n",
       "      <td>False</td>\n",
       "    </tr>\n",
       "    <tr>\n",
       "      <th>2</th>\n",
       "      <td>57.0</td>\n",
       "      <td>0</td>\n",
       "      <td>0</td>\n",
       "      <td>29.0</td>\n",
       "      <td>1</td>\n",
       "      <td>1</td>\n",
       "      <td>24.0</td>\n",
       "      <td>0</td>\n",
       "      <td>0</td>\n",
       "      <td>1</td>\n",
       "      <td>...</td>\n",
       "      <td>False</td>\n",
       "      <td>False</td>\n",
       "      <td>False</td>\n",
       "      <td>False</td>\n",
       "      <td>True</td>\n",
       "      <td>False</td>\n",
       "      <td>False</td>\n",
       "      <td>True</td>\n",
       "      <td>False</td>\n",
       "      <td>False</td>\n",
       "    </tr>\n",
       "    <tr>\n",
       "      <th>3</th>\n",
       "      <td>56.0</td>\n",
       "      <td>0</td>\n",
       "      <td>0</td>\n",
       "      <td>7.0</td>\n",
       "      <td>0</td>\n",
       "      <td>1</td>\n",
       "      <td>12.0</td>\n",
       "      <td>0</td>\n",
       "      <td>0</td>\n",
       "      <td>1</td>\n",
       "      <td>...</td>\n",
       "      <td>False</td>\n",
       "      <td>False</td>\n",
       "      <td>False</td>\n",
       "      <td>False</td>\n",
       "      <td>True</td>\n",
       "      <td>False</td>\n",
       "      <td>False</td>\n",
       "      <td>True</td>\n",
       "      <td>False</td>\n",
       "      <td>False</td>\n",
       "    </tr>\n",
       "    <tr>\n",
       "      <th>4</th>\n",
       "      <td>55.0</td>\n",
       "      <td>0</td>\n",
       "      <td>0</td>\n",
       "      <td>29.0</td>\n",
       "      <td>1</td>\n",
       "      <td>1</td>\n",
       "      <td>24.0</td>\n",
       "      <td>0</td>\n",
       "      <td>0</td>\n",
       "      <td>1</td>\n",
       "      <td>...</td>\n",
       "      <td>False</td>\n",
       "      <td>False</td>\n",
       "      <td>False</td>\n",
       "      <td>False</td>\n",
       "      <td>True</td>\n",
       "      <td>False</td>\n",
       "      <td>False</td>\n",
       "      <td>True</td>\n",
       "      <td>False</td>\n",
       "      <td>False</td>\n",
       "    </tr>\n",
       "    <tr>\n",
       "      <th>...</th>\n",
       "      <td>...</td>\n",
       "      <td>...</td>\n",
       "      <td>...</td>\n",
       "      <td>...</td>\n",
       "      <td>...</td>\n",
       "      <td>...</td>\n",
       "      <td>...</td>\n",
       "      <td>...</td>\n",
       "      <td>...</td>\n",
       "      <td>...</td>\n",
       "      <td>...</td>\n",
       "      <td>...</td>\n",
       "      <td>...</td>\n",
       "      <td>...</td>\n",
       "      <td>...</td>\n",
       "      <td>...</td>\n",
       "      <td>...</td>\n",
       "      <td>...</td>\n",
       "      <td>...</td>\n",
       "      <td>...</td>\n",
       "      <td>...</td>\n",
       "    </tr>\n",
       "    <tr>\n",
       "      <th>560</th>\n",
       "      <td>57.0</td>\n",
       "      <td>0</td>\n",
       "      <td>0</td>\n",
       "      <td>4.8</td>\n",
       "      <td>0</td>\n",
       "      <td>0</td>\n",
       "      <td>12.0</td>\n",
       "      <td>0</td>\n",
       "      <td>0</td>\n",
       "      <td>0</td>\n",
       "      <td>...</td>\n",
       "      <td>False</td>\n",
       "      <td>False</td>\n",
       "      <td>False</td>\n",
       "      <td>False</td>\n",
       "      <td>True</td>\n",
       "      <td>False</td>\n",
       "      <td>False</td>\n",
       "      <td>False</td>\n",
       "      <td>False</td>\n",
       "      <td>True</td>\n",
       "    </tr>\n",
       "    <tr>\n",
       "      <th>561</th>\n",
       "      <td>75.0</td>\n",
       "      <td>0</td>\n",
       "      <td>0</td>\n",
       "      <td>75.0</td>\n",
       "      <td>0</td>\n",
       "      <td>1</td>\n",
       "      <td>12.0</td>\n",
       "      <td>0</td>\n",
       "      <td>0</td>\n",
       "      <td>0</td>\n",
       "      <td>...</td>\n",
       "      <td>True</td>\n",
       "      <td>False</td>\n",
       "      <td>False</td>\n",
       "      <td>False</td>\n",
       "      <td>False</td>\n",
       "      <td>False</td>\n",
       "      <td>False</td>\n",
       "      <td>True</td>\n",
       "      <td>False</td>\n",
       "      <td>False</td>\n",
       "    </tr>\n",
       "    <tr>\n",
       "      <th>562</th>\n",
       "      <td>78.0</td>\n",
       "      <td>0</td>\n",
       "      <td>0</td>\n",
       "      <td>9.3</td>\n",
       "      <td>0</td>\n",
       "      <td>1</td>\n",
       "      <td>12.0</td>\n",
       "      <td>0</td>\n",
       "      <td>0</td>\n",
       "      <td>0</td>\n",
       "      <td>...</td>\n",
       "      <td>False</td>\n",
       "      <td>False</td>\n",
       "      <td>False</td>\n",
       "      <td>False</td>\n",
       "      <td>True</td>\n",
       "      <td>False</td>\n",
       "      <td>True</td>\n",
       "      <td>False</td>\n",
       "      <td>False</td>\n",
       "      <td>False</td>\n",
       "    </tr>\n",
       "    <tr>\n",
       "      <th>563</th>\n",
       "      <td>67.0</td>\n",
       "      <td>0</td>\n",
       "      <td>0</td>\n",
       "      <td>6.0</td>\n",
       "      <td>0</td>\n",
       "      <td>1</td>\n",
       "      <td>12.0</td>\n",
       "      <td>0</td>\n",
       "      <td>0</td>\n",
       "      <td>0</td>\n",
       "      <td>...</td>\n",
       "      <td>False</td>\n",
       "      <td>False</td>\n",
       "      <td>False</td>\n",
       "      <td>False</td>\n",
       "      <td>False</td>\n",
       "      <td>False</td>\n",
       "      <td>False</td>\n",
       "      <td>True</td>\n",
       "      <td>False</td>\n",
       "      <td>False</td>\n",
       "    </tr>\n",
       "    <tr>\n",
       "      <th>564</th>\n",
       "      <td>64.0</td>\n",
       "      <td>0</td>\n",
       "      <td>0</td>\n",
       "      <td>4.8</td>\n",
       "      <td>0</td>\n",
       "      <td>1</td>\n",
       "      <td>12.0</td>\n",
       "      <td>0</td>\n",
       "      <td>0</td>\n",
       "      <td>0</td>\n",
       "      <td>...</td>\n",
       "      <td>False</td>\n",
       "      <td>False</td>\n",
       "      <td>False</td>\n",
       "      <td>False</td>\n",
       "      <td>False</td>\n",
       "      <td>False</td>\n",
       "      <td>False</td>\n",
       "      <td>False</td>\n",
       "      <td>False</td>\n",
       "      <td>True</td>\n",
       "    </tr>\n",
       "  </tbody>\n",
       "</table>\n",
       "<p>561 rows × 23 columns</p>\n",
       "</div>"
      ],
      "text/plain": [
       "     EDAD  DIABETES  HOSPITALIZACIÓN ULTIMO MES   PSA  BIOPSIAS PREVIAS   \n",
       "0    53.0         0                           0   4.0                 0  \\\n",
       "1    56.0         0                           0   7.7                 0   \n",
       "2    57.0         0                           0  29.0                 1   \n",
       "3    56.0         0                           0   7.0                 0   \n",
       "4    55.0         0                           0  29.0                 1   \n",
       "..    ...       ...                         ...   ...               ...   \n",
       "560  57.0         0                           0   4.8                 0   \n",
       "561  75.0         0                           0  75.0                 0   \n",
       "562  78.0         0                           0   9.3                 0   \n",
       "563  67.0         0                           0   6.0                 0   \n",
       "564  64.0         0                           0   4.8                 0   \n",
       "\n",
       "     VOLUMEN PROSTATICO  NUMERO DE MUESTRAS TOMADAS  CUP   \n",
       "0                     1                        12.0    0  \\\n",
       "1                     1                        12.0    0   \n",
       "2                     1                        24.0    0   \n",
       "3                     1                        12.0    0   \n",
       "4                     1                        24.0    0   \n",
       "..                  ...                         ...  ...   \n",
       "560                   0                        12.0    0   \n",
       "561                   1                        12.0    0   \n",
       "562                   1                        12.0    0   \n",
       "563                   1                        12.0    0   \n",
       "564                   1                        12.0    0   \n",
       "\n",
       "     ENF. CRONICA PULMONAR OBSTRUCTIVA  HOSPITALIZACION  ...   \n",
       "0                                    0                1  ...  \\\n",
       "1                                    0                1  ...   \n",
       "2                                    0                1  ...   \n",
       "3                                    0                1  ...   \n",
       "4                                    0                1  ...   \n",
       "..                                 ...              ...  ...   \n",
       "560                                  0                0  ...   \n",
       "561                                  0                0  ...   \n",
       "562                                  0                0  ...   \n",
       "563                                  0                0  ...   \n",
       "564                                  0                0  ...   \n",
       "\n",
       "     BIOPSIA_ADENOCARCINOMA GLEASON 8  BIOPSIA_ADENOCARCINOMA GLEASON 9   \n",
       "0                               False                             False  \\\n",
       "1                               False                             False   \n",
       "2                               False                             False   \n",
       "3                               False                             False   \n",
       "4                               False                             False   \n",
       "..                                ...                               ...   \n",
       "560                             False                             False   \n",
       "561                              True                             False   \n",
       "562                             False                             False   \n",
       "563                             False                             False   \n",
       "564                             False                             False   \n",
       "\n",
       "     BIOPSIA_CARCINOMA INDIFERENCIADO DE CELULAS CLARAS   \n",
       "0                                                False   \\\n",
       "1                                                False    \n",
       "2                                                False    \n",
       "3                                                False    \n",
       "4                                                False    \n",
       "..                                                 ...    \n",
       "560                                              False    \n",
       "561                                              False    \n",
       "562                                              False    \n",
       "563                                              False    \n",
       "564                                              False    \n",
       "\n",
       "     BIOPSIA_HIPERPLASIA PROSTATICA  BIOPSIA_NEG  BIOPSIA_PROSTATITIS   \n",
       "0                             False         True                False  \\\n",
       "1                             False         True                False   \n",
       "2                             False         True                False   \n",
       "3                             False         True                False   \n",
       "4                             False         True                False   \n",
       "..                              ...          ...                  ...   \n",
       "560                           False         True                False   \n",
       "561                           False        False                False   \n",
       "562                           False         True                False   \n",
       "563                           False        False                False   \n",
       "564                           False        False                False   \n",
       "\n",
       "     ANTIBIOTICO USADO_CEFALOSPORINA_AMINOGLUCOCIDO   \n",
       "0                                             False  \\\n",
       "1                                             False   \n",
       "2                                             False   \n",
       "3                                             False   \n",
       "4                                             False   \n",
       "..                                              ...   \n",
       "560                                           False   \n",
       "561                                           False   \n",
       "562                                            True   \n",
       "563                                           False   \n",
       "564                                           False   \n",
       "\n",
       "     ANTIBIOTICO USADO_FLUOROQUINOLONA_AMINOGLICOSIDO   \n",
       "0                                                True  \\\n",
       "1                                                True   \n",
       "2                                                True   \n",
       "3                                                True   \n",
       "4                                                True   \n",
       "..                                                ...   \n",
       "560                                             False   \n",
       "561                                              True   \n",
       "562                                             False   \n",
       "563                                              True   \n",
       "564                                             False   \n",
       "\n",
       "     ANTIBIOTICO USADO_OROQUINOLONAS  ANTIBIOTICO USADO_OTROS  \n",
       "0                              False                    False  \n",
       "1                              False                    False  \n",
       "2                              False                    False  \n",
       "3                              False                    False  \n",
       "4                              False                    False  \n",
       "..                               ...                      ...  \n",
       "560                            False                     True  \n",
       "561                            False                    False  \n",
       "562                            False                    False  \n",
       "563                            False                    False  \n",
       "564                            False                     True  \n",
       "\n",
       "[561 rows x 23 columns]"
      ]
     },
     "execution_count": 1101,
     "metadata": {},
     "output_type": "execute_result"
    }
   ],
   "source": [
    "## Variables multiples\n",
    "\n",
    "var_categorica = \"BIOPSIA\"\n",
    "dummies1 = pd.get_dummies(data[var_categorica], prefix='BIOPSIA')\n",
    "data_dum = pd.concat([data, dummies1], axis=1)\n",
    "\n",
    "var_categorica2 = \"ANTIBIOTICO UTILIAZADO EN LA PROFILAXIS\"\n",
    "dummies2= pd.get_dummies(data[var_categorica2], prefix='ANTIBIOTICO USADO')\n",
    "data_dum = pd.concat([data_dum, dummies2], axis=1)\n",
    "\n",
    "data_dum.drop('ANTIBIOTICO UTILIAZADO EN LA PROFILAXIS',axis=1,inplace=True)\n",
    "data_dum.drop('BIOPSIA',axis=1,inplace=True)\n",
    "\n",
    "data_dum"
   ]
  },
  {
   "cell_type": "markdown",
   "metadata": {},
   "source": [
    "### 2.9 Balanceo con oversampleo"
   ]
  },
  {
   "cell_type": "code",
   "execution_count": 1138,
   "metadata": {},
   "outputs": [
    {
     "data": {
      "text/plain": [
       "1074"
      ]
     },
     "execution_count": 1138,
     "metadata": {},
     "output_type": "execute_result"
    }
   ],
   "source": [
    "# Separar las características y la variable objetivo\n",
    "X = data_dum.drop('HOSPITALIZACION', axis=1)  # Características\n",
    "y = data_dum['HOSPITALIZACION']  # Variable objetivo\n",
    "\n",
    "# Crear el objeto de oversampling\n",
    "oversampler = RandomOverSampler(sampling_strategy='minority')\n",
    "\n",
    "# Aplicar el oversampling a las características y la variable objetivo\n",
    "X_oversampled, y_oversampled = oversampler.fit_resample(X, y)\n",
    "\n",
    "# Crear un nuevo DataFrame con las características oversampleadas y la variable objetivo\n",
    "data_oversampled = pd.concat([X_oversampled, y_oversampled], axis=1)\n",
    "\n",
    "data_oversampled.shape[0]"
   ]
  },
  {
   "cell_type": "markdown",
   "metadata": {},
   "source": [
    "### 2.9 Creación de archivo CSV para crear modelo"
   ]
  },
  {
   "cell_type": "code",
   "execution_count": 1114,
   "metadata": {},
   "outputs": [],
   "source": [
    "data_oversampled.to_csv('Data_Modelo.csv',index=False)"
   ]
  },
  {
   "cell_type": "markdown",
   "metadata": {},
   "source": [
    "## 3. Modelamiento\n",
    "\n",
    "Una vez preparados los datos, se procederá con el modelamiento. Recuerden que el objetivo es clasificar a un paciente como hospitalizado o no hospitalizado, teniendo en cuenta un data set que contiene información referente a antecedentes del paciente, morbilidad asociada al paciente y antecedentes relacionados con la toma de la biopsia y complicaciones infecciosas."
   ]
  },
  {
   "cell_type": "code",
   "execution_count": 1104,
   "metadata": {},
   "outputs": [],
   "source": [
    "\n",
    "from sklearn.model_selection import train_test_split\n",
    "from sklearn.metrics import accuracy_score\n",
    "from sklearn.tree import DecisionTreeClassifier\n",
    "from sklearn.neighbors import KNeighborsClassifier\n",
    "from sklearn.metrics import confusion_matrix\n",
    "from sklearn.metrics import classification_report\n",
    "from sklearn.model_selection import GridSearchCV, train_test_split\n",
    "from sklearn.metrics import ConfusionMatrixDisplay\n",
    "from sklearn.model_selection import cross_val_score\n",
    "\n"
   ]
  },
  {
   "cell_type": "markdown",
   "metadata": {},
   "source": [
    "### 3.1 Cargamos la base de datos creada en el punto 2.10"
   ]
  },
  {
   "cell_type": "code",
   "execution_count": 1115,
   "metadata": {},
   "outputs": [],
   "source": [
    "data_modelo = pd.read_csv('Data_Modelo.csv')"
   ]
  },
  {
   "cell_type": "code",
   "execution_count": 1116,
   "metadata": {},
   "outputs": [
    {
     "data": {
      "text/html": [
       "<div>\n",
       "<style scoped>\n",
       "    .dataframe tbody tr th:only-of-type {\n",
       "        vertical-align: middle;\n",
       "    }\n",
       "\n",
       "    .dataframe tbody tr th {\n",
       "        vertical-align: top;\n",
       "    }\n",
       "\n",
       "    .dataframe thead th {\n",
       "        text-align: right;\n",
       "    }\n",
       "</style>\n",
       "<table border=\"1\" class=\"dataframe\">\n",
       "  <thead>\n",
       "    <tr style=\"text-align: right;\">\n",
       "      <th></th>\n",
       "      <th>EDAD</th>\n",
       "      <th>DIABETES</th>\n",
       "      <th>HOSPITALIZACIÓN ULTIMO MES</th>\n",
       "      <th>PSA</th>\n",
       "      <th>BIOPSIAS PREVIAS</th>\n",
       "      <th>VOLUMEN PROSTATICO</th>\n",
       "      <th>NUMERO DE MUESTRAS TOMADAS</th>\n",
       "      <th>CUP</th>\n",
       "      <th>ENF. CRONICA PULMONAR OBSTRUCTIVA</th>\n",
       "      <th>BIOPSIA_ADENOCARCINOMA GLEASON 10</th>\n",
       "      <th>...</th>\n",
       "      <th>BIOPSIA_ADENOCARCINOMA GLEASON 9</th>\n",
       "      <th>BIOPSIA_CARCINOMA INDIFERENCIADO DE CELULAS CLARAS</th>\n",
       "      <th>BIOPSIA_HIPERPLASIA PROSTATICA</th>\n",
       "      <th>BIOPSIA_NEG</th>\n",
       "      <th>BIOPSIA_PROSTATITIS</th>\n",
       "      <th>ANTIBIOTICO USADO_CEFALOSPORINA_AMINOGLUCOCIDO</th>\n",
       "      <th>ANTIBIOTICO USADO_FLUOROQUINOLONA_AMINOGLICOSIDO</th>\n",
       "      <th>ANTIBIOTICO USADO_OROQUINOLONAS</th>\n",
       "      <th>ANTIBIOTICO USADO_OTROS</th>\n",
       "      <th>HOSPITALIZACION</th>\n",
       "    </tr>\n",
       "  </thead>\n",
       "  <tbody>\n",
       "    <tr>\n",
       "      <th>0</th>\n",
       "      <td>53.0</td>\n",
       "      <td>0</td>\n",
       "      <td>0</td>\n",
       "      <td>4.0</td>\n",
       "      <td>0</td>\n",
       "      <td>1</td>\n",
       "      <td>12.0</td>\n",
       "      <td>0</td>\n",
       "      <td>0</td>\n",
       "      <td>False</td>\n",
       "      <td>...</td>\n",
       "      <td>False</td>\n",
       "      <td>False</td>\n",
       "      <td>False</td>\n",
       "      <td>True</td>\n",
       "      <td>False</td>\n",
       "      <td>False</td>\n",
       "      <td>True</td>\n",
       "      <td>False</td>\n",
       "      <td>False</td>\n",
       "      <td>1</td>\n",
       "    </tr>\n",
       "    <tr>\n",
       "      <th>1</th>\n",
       "      <td>56.0</td>\n",
       "      <td>0</td>\n",
       "      <td>0</td>\n",
       "      <td>7.7</td>\n",
       "      <td>0</td>\n",
       "      <td>1</td>\n",
       "      <td>12.0</td>\n",
       "      <td>0</td>\n",
       "      <td>0</td>\n",
       "      <td>False</td>\n",
       "      <td>...</td>\n",
       "      <td>False</td>\n",
       "      <td>False</td>\n",
       "      <td>False</td>\n",
       "      <td>True</td>\n",
       "      <td>False</td>\n",
       "      <td>False</td>\n",
       "      <td>True</td>\n",
       "      <td>False</td>\n",
       "      <td>False</td>\n",
       "      <td>1</td>\n",
       "    </tr>\n",
       "    <tr>\n",
       "      <th>2</th>\n",
       "      <td>57.0</td>\n",
       "      <td>0</td>\n",
       "      <td>0</td>\n",
       "      <td>29.0</td>\n",
       "      <td>1</td>\n",
       "      <td>1</td>\n",
       "      <td>24.0</td>\n",
       "      <td>0</td>\n",
       "      <td>0</td>\n",
       "      <td>False</td>\n",
       "      <td>...</td>\n",
       "      <td>False</td>\n",
       "      <td>False</td>\n",
       "      <td>False</td>\n",
       "      <td>True</td>\n",
       "      <td>False</td>\n",
       "      <td>False</td>\n",
       "      <td>True</td>\n",
       "      <td>False</td>\n",
       "      <td>False</td>\n",
       "      <td>1</td>\n",
       "    </tr>\n",
       "    <tr>\n",
       "      <th>3</th>\n",
       "      <td>56.0</td>\n",
       "      <td>0</td>\n",
       "      <td>0</td>\n",
       "      <td>7.0</td>\n",
       "      <td>0</td>\n",
       "      <td>1</td>\n",
       "      <td>12.0</td>\n",
       "      <td>0</td>\n",
       "      <td>0</td>\n",
       "      <td>False</td>\n",
       "      <td>...</td>\n",
       "      <td>False</td>\n",
       "      <td>False</td>\n",
       "      <td>False</td>\n",
       "      <td>True</td>\n",
       "      <td>False</td>\n",
       "      <td>False</td>\n",
       "      <td>True</td>\n",
       "      <td>False</td>\n",
       "      <td>False</td>\n",
       "      <td>1</td>\n",
       "    </tr>\n",
       "    <tr>\n",
       "      <th>4</th>\n",
       "      <td>55.0</td>\n",
       "      <td>0</td>\n",
       "      <td>0</td>\n",
       "      <td>29.0</td>\n",
       "      <td>1</td>\n",
       "      <td>1</td>\n",
       "      <td>24.0</td>\n",
       "      <td>0</td>\n",
       "      <td>0</td>\n",
       "      <td>False</td>\n",
       "      <td>...</td>\n",
       "      <td>False</td>\n",
       "      <td>False</td>\n",
       "      <td>False</td>\n",
       "      <td>True</td>\n",
       "      <td>False</td>\n",
       "      <td>False</td>\n",
       "      <td>True</td>\n",
       "      <td>False</td>\n",
       "      <td>False</td>\n",
       "      <td>1</td>\n",
       "    </tr>\n",
       "    <tr>\n",
       "      <th>...</th>\n",
       "      <td>...</td>\n",
       "      <td>...</td>\n",
       "      <td>...</td>\n",
       "      <td>...</td>\n",
       "      <td>...</td>\n",
       "      <td>...</td>\n",
       "      <td>...</td>\n",
       "      <td>...</td>\n",
       "      <td>...</td>\n",
       "      <td>...</td>\n",
       "      <td>...</td>\n",
       "      <td>...</td>\n",
       "      <td>...</td>\n",
       "      <td>...</td>\n",
       "      <td>...</td>\n",
       "      <td>...</td>\n",
       "      <td>...</td>\n",
       "      <td>...</td>\n",
       "      <td>...</td>\n",
       "      <td>...</td>\n",
       "      <td>...</td>\n",
       "    </tr>\n",
       "    <tr>\n",
       "      <th>1069</th>\n",
       "      <td>55.0</td>\n",
       "      <td>1</td>\n",
       "      <td>1</td>\n",
       "      <td>4.0</td>\n",
       "      <td>0</td>\n",
       "      <td>1</td>\n",
       "      <td>12.0</td>\n",
       "      <td>0</td>\n",
       "      <td>0</td>\n",
       "      <td>False</td>\n",
       "      <td>...</td>\n",
       "      <td>False</td>\n",
       "      <td>False</td>\n",
       "      <td>False</td>\n",
       "      <td>True</td>\n",
       "      <td>False</td>\n",
       "      <td>False</td>\n",
       "      <td>True</td>\n",
       "      <td>False</td>\n",
       "      <td>False</td>\n",
       "      <td>1</td>\n",
       "    </tr>\n",
       "    <tr>\n",
       "      <th>1070</th>\n",
       "      <td>55.0</td>\n",
       "      <td>1</td>\n",
       "      <td>1</td>\n",
       "      <td>4.0</td>\n",
       "      <td>0</td>\n",
       "      <td>1</td>\n",
       "      <td>12.0</td>\n",
       "      <td>0</td>\n",
       "      <td>0</td>\n",
       "      <td>False</td>\n",
       "      <td>...</td>\n",
       "      <td>False</td>\n",
       "      <td>False</td>\n",
       "      <td>False</td>\n",
       "      <td>True</td>\n",
       "      <td>False</td>\n",
       "      <td>False</td>\n",
       "      <td>True</td>\n",
       "      <td>False</td>\n",
       "      <td>False</td>\n",
       "      <td>1</td>\n",
       "    </tr>\n",
       "    <tr>\n",
       "      <th>1071</th>\n",
       "      <td>68.0</td>\n",
       "      <td>0</td>\n",
       "      <td>0</td>\n",
       "      <td>6.2</td>\n",
       "      <td>0</td>\n",
       "      <td>1</td>\n",
       "      <td>12.0</td>\n",
       "      <td>0</td>\n",
       "      <td>0</td>\n",
       "      <td>False</td>\n",
       "      <td>...</td>\n",
       "      <td>False</td>\n",
       "      <td>False</td>\n",
       "      <td>False</td>\n",
       "      <td>True</td>\n",
       "      <td>False</td>\n",
       "      <td>False</td>\n",
       "      <td>True</td>\n",
       "      <td>False</td>\n",
       "      <td>False</td>\n",
       "      <td>1</td>\n",
       "    </tr>\n",
       "    <tr>\n",
       "      <th>1072</th>\n",
       "      <td>55.0</td>\n",
       "      <td>0</td>\n",
       "      <td>0</td>\n",
       "      <td>29.0</td>\n",
       "      <td>1</td>\n",
       "      <td>1</td>\n",
       "      <td>24.0</td>\n",
       "      <td>0</td>\n",
       "      <td>0</td>\n",
       "      <td>False</td>\n",
       "      <td>...</td>\n",
       "      <td>False</td>\n",
       "      <td>False</td>\n",
       "      <td>False</td>\n",
       "      <td>True</td>\n",
       "      <td>False</td>\n",
       "      <td>False</td>\n",
       "      <td>True</td>\n",
       "      <td>False</td>\n",
       "      <td>False</td>\n",
       "      <td>1</td>\n",
       "    </tr>\n",
       "    <tr>\n",
       "      <th>1073</th>\n",
       "      <td>69.0</td>\n",
       "      <td>0</td>\n",
       "      <td>0</td>\n",
       "      <td>5.7</td>\n",
       "      <td>0</td>\n",
       "      <td>0</td>\n",
       "      <td>12.0</td>\n",
       "      <td>0</td>\n",
       "      <td>0</td>\n",
       "      <td>False</td>\n",
       "      <td>...</td>\n",
       "      <td>False</td>\n",
       "      <td>False</td>\n",
       "      <td>False</td>\n",
       "      <td>True</td>\n",
       "      <td>False</td>\n",
       "      <td>False</td>\n",
       "      <td>True</td>\n",
       "      <td>False</td>\n",
       "      <td>False</td>\n",
       "      <td>1</td>\n",
       "    </tr>\n",
       "  </tbody>\n",
       "</table>\n",
       "<p>1074 rows × 23 columns</p>\n",
       "</div>"
      ],
      "text/plain": [
       "      EDAD  DIABETES  HOSPITALIZACIÓN ULTIMO MES   PSA  BIOPSIAS PREVIAS   \n",
       "0     53.0         0                           0   4.0                 0  \\\n",
       "1     56.0         0                           0   7.7                 0   \n",
       "2     57.0         0                           0  29.0                 1   \n",
       "3     56.0         0                           0   7.0                 0   \n",
       "4     55.0         0                           0  29.0                 1   \n",
       "...    ...       ...                         ...   ...               ...   \n",
       "1069  55.0         1                           1   4.0                 0   \n",
       "1070  55.0         1                           1   4.0                 0   \n",
       "1071  68.0         0                           0   6.2                 0   \n",
       "1072  55.0         0                           0  29.0                 1   \n",
       "1073  69.0         0                           0   5.7                 0   \n",
       "\n",
       "      VOLUMEN PROSTATICO  NUMERO DE MUESTRAS TOMADAS  CUP   \n",
       "0                      1                        12.0    0  \\\n",
       "1                      1                        12.0    0   \n",
       "2                      1                        24.0    0   \n",
       "3                      1                        12.0    0   \n",
       "4                      1                        24.0    0   \n",
       "...                  ...                         ...  ...   \n",
       "1069                   1                        12.0    0   \n",
       "1070                   1                        12.0    0   \n",
       "1071                   1                        12.0    0   \n",
       "1072                   1                        24.0    0   \n",
       "1073                   0                        12.0    0   \n",
       "\n",
       "      ENF. CRONICA PULMONAR OBSTRUCTIVA  BIOPSIA_ADENOCARCINOMA GLEASON 10   \n",
       "0                                     0                              False  \\\n",
       "1                                     0                              False   \n",
       "2                                     0                              False   \n",
       "3                                     0                              False   \n",
       "4                                     0                              False   \n",
       "...                                 ...                                ...   \n",
       "1069                                  0                              False   \n",
       "1070                                  0                              False   \n",
       "1071                                  0                              False   \n",
       "1072                                  0                              False   \n",
       "1073                                  0                              False   \n",
       "\n",
       "      ...  BIOPSIA_ADENOCARCINOMA GLEASON 9   \n",
       "0     ...                             False  \\\n",
       "1     ...                             False   \n",
       "2     ...                             False   \n",
       "3     ...                             False   \n",
       "4     ...                             False   \n",
       "...   ...                               ...   \n",
       "1069  ...                             False   \n",
       "1070  ...                             False   \n",
       "1071  ...                             False   \n",
       "1072  ...                             False   \n",
       "1073  ...                             False   \n",
       "\n",
       "      BIOPSIA_CARCINOMA INDIFERENCIADO DE CELULAS CLARAS   \n",
       "0                                                 False   \\\n",
       "1                                                 False    \n",
       "2                                                 False    \n",
       "3                                                 False    \n",
       "4                                                 False    \n",
       "...                                                 ...    \n",
       "1069                                              False    \n",
       "1070                                              False    \n",
       "1071                                              False    \n",
       "1072                                              False    \n",
       "1073                                              False    \n",
       "\n",
       "      BIOPSIA_HIPERPLASIA PROSTATICA  BIOPSIA_NEG  BIOPSIA_PROSTATITIS   \n",
       "0                              False         True                False  \\\n",
       "1                              False         True                False   \n",
       "2                              False         True                False   \n",
       "3                              False         True                False   \n",
       "4                              False         True                False   \n",
       "...                              ...          ...                  ...   \n",
       "1069                           False         True                False   \n",
       "1070                           False         True                False   \n",
       "1071                           False         True                False   \n",
       "1072                           False         True                False   \n",
       "1073                           False         True                False   \n",
       "\n",
       "      ANTIBIOTICO USADO_CEFALOSPORINA_AMINOGLUCOCIDO   \n",
       "0                                              False  \\\n",
       "1                                              False   \n",
       "2                                              False   \n",
       "3                                              False   \n",
       "4                                              False   \n",
       "...                                              ...   \n",
       "1069                                           False   \n",
       "1070                                           False   \n",
       "1071                                           False   \n",
       "1072                                           False   \n",
       "1073                                           False   \n",
       "\n",
       "      ANTIBIOTICO USADO_FLUOROQUINOLONA_AMINOGLICOSIDO   \n",
       "0                                                 True  \\\n",
       "1                                                 True   \n",
       "2                                                 True   \n",
       "3                                                 True   \n",
       "4                                                 True   \n",
       "...                                                ...   \n",
       "1069                                              True   \n",
       "1070                                              True   \n",
       "1071                                              True   \n",
       "1072                                              True   \n",
       "1073                                              True   \n",
       "\n",
       "      ANTIBIOTICO USADO_OROQUINOLONAS  ANTIBIOTICO USADO_OTROS   \n",
       "0                               False                    False  \\\n",
       "1                               False                    False   \n",
       "2                               False                    False   \n",
       "3                               False                    False   \n",
       "4                               False                    False   \n",
       "...                               ...                      ...   \n",
       "1069                            False                    False   \n",
       "1070                            False                    False   \n",
       "1071                            False                    False   \n",
       "1072                            False                    False   \n",
       "1073                            False                    False   \n",
       "\n",
       "      HOSPITALIZACION  \n",
       "0                   1  \n",
       "1                   1  \n",
       "2                   1  \n",
       "3                   1  \n",
       "4                   1  \n",
       "...               ...  \n",
       "1069                1  \n",
       "1070                1  \n",
       "1071                1  \n",
       "1072                1  \n",
       "1073                1  \n",
       "\n",
       "[1074 rows x 23 columns]"
      ]
     },
     "execution_count": 1116,
     "metadata": {},
     "output_type": "execute_result"
    }
   ],
   "source": [
    "data_modelo"
   ]
  },
  {
   "cell_type": "markdown",
   "metadata": {},
   "source": [
    "### 3.2 Separación del dataset en X e y (variable objetivo)"
   ]
  },
  {
   "cell_type": "code",
   "execution_count": 1117,
   "metadata": {},
   "outputs": [],
   "source": [
    "X = data_modelo.drop(['HOSPITALIZACION'],axis=1)\n",
    "y = data_modelo['HOSPITALIZACION']\n"
   ]
  },
  {
   "cell_type": "markdown",
   "metadata": {},
   "source": [
    "### 3.3 División del dataset en X_train, X_test, y_train y y_test"
   ]
  },
  {
   "cell_type": "code",
   "execution_count": 1118,
   "metadata": {},
   "outputs": [],
   "source": [
    "X_train, X_test, y_train, y_test = train_test_split(X, y, test_size=0.20, random_state=123)"
   ]
  },
  {
   "cell_type": "markdown",
   "metadata": {},
   "source": [
    "### 3.4 Modelo 1: **Árbol de decisión (max_depth = arbitrario)** \n",
    "\n",
    "\n"
   ]
  },
  {
   "cell_type": "markdown",
   "metadata": {},
   "source": [
    "**3.3.1 Instanciamiento**"
   ]
  },
  {
   "cell_type": "code",
   "execution_count": 1119,
   "metadata": {},
   "outputs": [],
   "source": [
    "modelo1 = DecisionTreeClassifier()"
   ]
  },
  {
   "cell_type": "markdown",
   "metadata": {},
   "source": [
    "**3.3.2 Entrenamiento**"
   ]
  },
  {
   "cell_type": "code",
   "execution_count": 1120,
   "metadata": {},
   "outputs": [
    {
     "data": {
      "text/html": [
       "<style>#sk-container-id-59 {color: black;}#sk-container-id-59 pre{padding: 0;}#sk-container-id-59 div.sk-toggleable {background-color: white;}#sk-container-id-59 label.sk-toggleable__label {cursor: pointer;display: block;width: 100%;margin-bottom: 0;padding: 0.3em;box-sizing: border-box;text-align: center;}#sk-container-id-59 label.sk-toggleable__label-arrow:before {content: \"▸\";float: left;margin-right: 0.25em;color: #696969;}#sk-container-id-59 label.sk-toggleable__label-arrow:hover:before {color: black;}#sk-container-id-59 div.sk-estimator:hover label.sk-toggleable__label-arrow:before {color: black;}#sk-container-id-59 div.sk-toggleable__content {max-height: 0;max-width: 0;overflow: hidden;text-align: left;background-color: #f0f8ff;}#sk-container-id-59 div.sk-toggleable__content pre {margin: 0.2em;color: black;border-radius: 0.25em;background-color: #f0f8ff;}#sk-container-id-59 input.sk-toggleable__control:checked~div.sk-toggleable__content {max-height: 200px;max-width: 100%;overflow: auto;}#sk-container-id-59 input.sk-toggleable__control:checked~label.sk-toggleable__label-arrow:before {content: \"▾\";}#sk-container-id-59 div.sk-estimator input.sk-toggleable__control:checked~label.sk-toggleable__label {background-color: #d4ebff;}#sk-container-id-59 div.sk-label input.sk-toggleable__control:checked~label.sk-toggleable__label {background-color: #d4ebff;}#sk-container-id-59 input.sk-hidden--visually {border: 0;clip: rect(1px 1px 1px 1px);clip: rect(1px, 1px, 1px, 1px);height: 1px;margin: -1px;overflow: hidden;padding: 0;position: absolute;width: 1px;}#sk-container-id-59 div.sk-estimator {font-family: monospace;background-color: #f0f8ff;border: 1px dotted black;border-radius: 0.25em;box-sizing: border-box;margin-bottom: 0.5em;}#sk-container-id-59 div.sk-estimator:hover {background-color: #d4ebff;}#sk-container-id-59 div.sk-parallel-item::after {content: \"\";width: 100%;border-bottom: 1px solid gray;flex-grow: 1;}#sk-container-id-59 div.sk-label:hover label.sk-toggleable__label {background-color: #d4ebff;}#sk-container-id-59 div.sk-serial::before {content: \"\";position: absolute;border-left: 1px solid gray;box-sizing: border-box;top: 0;bottom: 0;left: 50%;z-index: 0;}#sk-container-id-59 div.sk-serial {display: flex;flex-direction: column;align-items: center;background-color: white;padding-right: 0.2em;padding-left: 0.2em;position: relative;}#sk-container-id-59 div.sk-item {position: relative;z-index: 1;}#sk-container-id-59 div.sk-parallel {display: flex;align-items: stretch;justify-content: center;background-color: white;position: relative;}#sk-container-id-59 div.sk-item::before, #sk-container-id-59 div.sk-parallel-item::before {content: \"\";position: absolute;border-left: 1px solid gray;box-sizing: border-box;top: 0;bottom: 0;left: 50%;z-index: -1;}#sk-container-id-59 div.sk-parallel-item {display: flex;flex-direction: column;z-index: 1;position: relative;background-color: white;}#sk-container-id-59 div.sk-parallel-item:first-child::after {align-self: flex-end;width: 50%;}#sk-container-id-59 div.sk-parallel-item:last-child::after {align-self: flex-start;width: 50%;}#sk-container-id-59 div.sk-parallel-item:only-child::after {width: 0;}#sk-container-id-59 div.sk-dashed-wrapped {border: 1px dashed gray;margin: 0 0.4em 0.5em 0.4em;box-sizing: border-box;padding-bottom: 0.4em;background-color: white;}#sk-container-id-59 div.sk-label label {font-family: monospace;font-weight: bold;display: inline-block;line-height: 1.2em;}#sk-container-id-59 div.sk-label-container {text-align: center;}#sk-container-id-59 div.sk-container {/* jupyter's `normalize.less` sets `[hidden] { display: none; }` but bootstrap.min.css set `[hidden] { display: none !important; }` so we also need the `!important` here to be able to override the default hidden behavior on the sphinx rendered scikit-learn.org. See: https://github.com/scikit-learn/scikit-learn/issues/21755 */display: inline-block !important;position: relative;}#sk-container-id-59 div.sk-text-repr-fallback {display: none;}</style><div id=\"sk-container-id-59\" class=\"sk-top-container\"><div class=\"sk-text-repr-fallback\"><pre>DecisionTreeClassifier()</pre><b>In a Jupyter environment, please rerun this cell to show the HTML representation or trust the notebook. <br />On GitHub, the HTML representation is unable to render, please try loading this page with nbviewer.org.</b></div><div class=\"sk-container\" hidden><div class=\"sk-item\"><div class=\"sk-estimator sk-toggleable\"><input class=\"sk-toggleable__control sk-hidden--visually\" id=\"sk-estimator-id-59\" type=\"checkbox\" checked><label for=\"sk-estimator-id-59\" class=\"sk-toggleable__label sk-toggleable__label-arrow\">DecisionTreeClassifier</label><div class=\"sk-toggleable__content\"><pre>DecisionTreeClassifier()</pre></div></div></div></div></div>"
      ],
      "text/plain": [
       "DecisionTreeClassifier()"
      ]
     },
     "execution_count": 1120,
     "metadata": {},
     "output_type": "execute_result"
    }
   ],
   "source": [
    "modelo1.fit(X_train, y_train)"
   ]
  },
  {
   "cell_type": "markdown",
   "metadata": {},
   "source": [
    "**3.3.2 Predicción**"
   ]
  },
  {
   "cell_type": "code",
   "execution_count": 1121,
   "metadata": {},
   "outputs": [
    {
     "name": "stdout",
     "output_type": "stream",
     "text": [
      "Accuracy Train: 0.9976717112922002\n",
      "Accuracy Test: 0.9953488372093023\n"
     ]
    }
   ],
   "source": [
    "## Prediccion sobre set entrenamiento\n",
    "y_train_pred1 = modelo1.predict(X_train)\n",
    "\n",
    "## Prediccion sobre set testeo\n",
    "y_test_pred1 = modelo1.predict(X_test)\n",
    "\n",
    "print('Accuracy Train:', accuracy_score(y_train_pred1,y_train))\n",
    "print('Accuracy Test:', accuracy_score(y_test_pred1,y_test))"
   ]
  },
  {
   "cell_type": "markdown",
   "metadata": {},
   "source": [
    "### 3.5 Matriz de confusión"
   ]
  },
  {
   "cell_type": "code",
   "execution_count": 1123,
   "metadata": {},
   "outputs": [
    {
     "data": {
      "image/png": "[encoded data removed]",
      "text/plain": [
       "<Figure size 700x400 with 2 Axes>"
      ]
     },
     "metadata": {},
     "output_type": "display_data"
    }
   ],
   "source": [
    "matriz = confusion_matrix(y_test, y_test_pred1)\n",
    "\n",
    "plt.figure(figsize=(7,4))\n",
    "sns.heatmap(matriz, annot=True, fmt=\"d\", cmap='crest')\n",
    "plt.xlabel(\"Predicted\")\n",
    "plt.ylabel(\"True\")\n",
    "plt.title(\"Matriz de Confusión\")\n",
    "plt.show()"
   ]
  },
  {
   "cell_type": "markdown",
   "metadata": {},
   "source": [
    "### 3.6 Métricas de evaluación"
   ]
  },
  {
   "cell_type": "code",
   "execution_count": 1124,
   "metadata": {},
   "outputs": [
    {
     "name": "stdout",
     "output_type": "stream",
     "text": [
      "              precision    recall  f1-score   support\n",
      "\n",
      "           0       1.00      0.99      1.00       105\n",
      "           1       0.99      1.00      1.00       110\n",
      "\n",
      "    accuracy                           1.00       215\n",
      "   macro avg       1.00      1.00      1.00       215\n",
      "weighted avg       1.00      1.00      1.00       215\n",
      "\n"
     ]
    }
   ],
   "source": [
    "metricas = classification_report(y_test, y_test_pred1)\n",
    "print(metricas)"
   ]
  },
  {
   "cell_type": "markdown",
   "metadata": {},
   "source": [
    "### 3.7 Obtención del valor optimo del hyperparámetro *max_depth*"
   ]
  },
  {
   "cell_type": "code",
   "execution_count": 1125,
   "metadata": {},
   "outputs": [
    {
     "data": {
      "image/png": "[encoded data removed]",
      "text/plain": [
       "<Figure size 1200x700 with 1 Axes>"
      ]
     },
     "metadata": {},
     "output_type": "display_data"
    }
   ],
   "source": [
    "train_prec =  []\n",
    "eval_prec = []\n",
    "max_deep_list = list(range(3, 23))\n",
    "\n",
    "for deep in max_deep_list:\n",
    "    clf_3 = DecisionTreeClassifier(max_depth=deep, criterion='entropy')\n",
    "    clf_3.fit(X_train, y_train)\n",
    "    train_prec.append(clf_3.score(X_train, y_train))\n",
    "    eval_prec.append(clf_3.score(X_test, y_test))\n",
    "\n",
    "plt.figure(figsize=(12,7))\n",
    "plt.plot(max_deep_list, train_prec, color='r', label='Set de entrenamiento')\n",
    "plt.plot(max_deep_list, eval_prec, color='b', label='Set de testeo')\n",
    "plt.title('Gráfico de ajuste del árbol de decision', fontsize = 15)\n",
    "plt.legend()\n",
    "plt.ylabel('Exactitud')\n",
    "plt.xlabel('Profundidad')\n",
    "plt.show()"
   ]
  },
  {
   "cell_type": "markdown",
   "metadata": {},
   "source": [
    "### 3.8 Modelo 2:  **Árbol de decisión (max_depth = 14)** "
   ]
  },
  {
   "cell_type": "markdown",
   "metadata": {},
   "source": [
    "**3.8.1 Instanciamiento**"
   ]
  },
  {
   "cell_type": "code",
   "execution_count": 1139,
   "metadata": {},
   "outputs": [],
   "source": [
    "modelo2 = DecisionTreeClassifier(max_depth=14)"
   ]
  },
  {
   "cell_type": "markdown",
   "metadata": {},
   "source": [
    "**3.8.2 Entrenamiento**"
   ]
  },
  {
   "cell_type": "code",
   "execution_count": 1140,
   "metadata": {},
   "outputs": [
    {
     "data": {
      "text/html": [
       "<style>#sk-container-id-62 {color: black;}#sk-container-id-62 pre{padding: 0;}#sk-container-id-62 div.sk-toggleable {background-color: white;}#sk-container-id-62 label.sk-toggleable__label {cursor: pointer;display: block;width: 100%;margin-bottom: 0;padding: 0.3em;box-sizing: border-box;text-align: center;}#sk-container-id-62 label.sk-toggleable__label-arrow:before {content: \"▸\";float: left;margin-right: 0.25em;color: #696969;}#sk-container-id-62 label.sk-toggleable__label-arrow:hover:before {color: black;}#sk-container-id-62 div.sk-estimator:hover label.sk-toggleable__label-arrow:before {color: black;}#sk-container-id-62 div.sk-toggleable__content {max-height: 0;max-width: 0;overflow: hidden;text-align: left;background-color: #f0f8ff;}#sk-container-id-62 div.sk-toggleable__content pre {margin: 0.2em;color: black;border-radius: 0.25em;background-color: #f0f8ff;}#sk-container-id-62 input.sk-toggleable__control:checked~div.sk-toggleable__content {max-height: 200px;max-width: 100%;overflow: auto;}#sk-container-id-62 input.sk-toggleable__control:checked~label.sk-toggleable__label-arrow:before {content: \"▾\";}#sk-container-id-62 div.sk-estimator input.sk-toggleable__control:checked~label.sk-toggleable__label {background-color: #d4ebff;}#sk-container-id-62 div.sk-label input.sk-toggleable__control:checked~label.sk-toggleable__label {background-color: #d4ebff;}#sk-container-id-62 input.sk-hidden--visually {border: 0;clip: rect(1px 1px 1px 1px);clip: rect(1px, 1px, 1px, 1px);height: 1px;margin: -1px;overflow: hidden;padding: 0;position: absolute;width: 1px;}#sk-container-id-62 div.sk-estimator {font-family: monospace;background-color: #f0f8ff;border: 1px dotted black;border-radius: 0.25em;box-sizing: border-box;margin-bottom: 0.5em;}#sk-container-id-62 div.sk-estimator:hover {background-color: #d4ebff;}#sk-container-id-62 div.sk-parallel-item::after {content: \"\";width: 100%;border-bottom: 1px solid gray;flex-grow: 1;}#sk-container-id-62 div.sk-label:hover label.sk-toggleable__label {background-color: #d4ebff;}#sk-container-id-62 div.sk-serial::before {content: \"\";position: absolute;border-left: 1px solid gray;box-sizing: border-box;top: 0;bottom: 0;left: 50%;z-index: 0;}#sk-container-id-62 div.sk-serial {display: flex;flex-direction: column;align-items: center;background-color: white;padding-right: 0.2em;padding-left: 0.2em;position: relative;}#sk-container-id-62 div.sk-item {position: relative;z-index: 1;}#sk-container-id-62 div.sk-parallel {display: flex;align-items: stretch;justify-content: center;background-color: white;position: relative;}#sk-container-id-62 div.sk-item::before, #sk-container-id-62 div.sk-parallel-item::before {content: \"\";position: absolute;border-left: 1px solid gray;box-sizing: border-box;top: 0;bottom: 0;left: 50%;z-index: -1;}#sk-container-id-62 div.sk-parallel-item {display: flex;flex-direction: column;z-index: 1;position: relative;background-color: white;}#sk-container-id-62 div.sk-parallel-item:first-child::after {align-self: flex-end;width: 50%;}#sk-container-id-62 div.sk-parallel-item:last-child::after {align-self: flex-start;width: 50%;}#sk-container-id-62 div.sk-parallel-item:only-child::after {width: 0;}#sk-container-id-62 div.sk-dashed-wrapped {border: 1px dashed gray;margin: 0 0.4em 0.5em 0.4em;box-sizing: border-box;padding-bottom: 0.4em;background-color: white;}#sk-container-id-62 div.sk-label label {font-family: monospace;font-weight: bold;display: inline-block;line-height: 1.2em;}#sk-container-id-62 div.sk-label-container {text-align: center;}#sk-container-id-62 div.sk-container {/* jupyter's `normalize.less` sets `[hidden] { display: none; }` but bootstrap.min.css set `[hidden] { display: none !important; }` so we also need the `!important` here to be able to override the default hidden behavior on the sphinx rendered scikit-learn.org. See: https://github.com/scikit-learn/scikit-learn/issues/21755 */display: inline-block !important;position: relative;}#sk-container-id-62 div.sk-text-repr-fallback {display: none;}</style><div id=\"sk-container-id-62\" class=\"sk-top-container\"><div class=\"sk-text-repr-fallback\"><pre>DecisionTreeClassifier(max_depth=14)</pre><b>In a Jupyter environment, please rerun this cell to show the HTML representation or trust the notebook. <br />On GitHub, the HTML representation is unable to render, please try loading this page with nbviewer.org.</b></div><div class=\"sk-container\" hidden><div class=\"sk-item\"><div class=\"sk-estimator sk-toggleable\"><input class=\"sk-toggleable__control sk-hidden--visually\" id=\"sk-estimator-id-62\" type=\"checkbox\" checked><label for=\"sk-estimator-id-62\" class=\"sk-toggleable__label sk-toggleable__label-arrow\">DecisionTreeClassifier</label><div class=\"sk-toggleable__content\"><pre>DecisionTreeClassifier(max_depth=14)</pre></div></div></div></div></div>"
      ],
      "text/plain": [
       "DecisionTreeClassifier(max_depth=14)"
      ]
     },
     "execution_count": 1140,
     "metadata": {},
     "output_type": "execute_result"
    }
   ],
   "source": [
    "modelo2.fit(X_train, y_train)"
   ]
  },
  {
   "cell_type": "markdown",
   "metadata": {},
   "source": [
    "**3.8.2 Predicción**"
   ]
  },
  {
   "cell_type": "code",
   "execution_count": 1141,
   "metadata": {},
   "outputs": [
    {
     "name": "stdout",
     "output_type": "stream",
     "text": [
      "Accuracy Train: 0.9627473806752037\n",
      "Accuracy Test: 0.9674418604651163\n"
     ]
    }
   ],
   "source": [
    "## Prediccion sobre set entrenamiento\n",
    "y_train_pred2 = modelo2.predict(X_train)\n",
    "\n",
    "## Prediccion sobre set testeo\n",
    "y_test_pred2 = modelo2.predict(X_test)\n",
    "\n",
    "print('Accuracy Train:', accuracy_score(y_train_pred2,y_train))\n",
    "print('Accuracy Test:', accuracy_score(y_test_pred2,y_test))"
   ]
  },
  {
   "cell_type": "code",
   "execution_count": 1142,
   "metadata": {},
   "outputs": [
    {
     "data": {
      "image/png": "[encoded data removed]",
      "text/plain": [
       "<Figure size 700x400 with 2 Axes>"
      ]
     },
     "metadata": {},
     "output_type": "display_data"
    }
   ],
   "source": [
    "matriz = confusion_matrix(y_test, y_test_pred2)\n",
    "\n",
    "plt.figure(figsize=(7,4))\n",
    "sns.heatmap(matriz, annot=True, fmt=\"d\", cmap='crest')\n",
    "plt.xlabel(\"Predicted\")\n",
    "plt.ylabel(\"True\")\n",
    "plt.title(\"Matriz de Confusión\")\n",
    "plt.show()"
   ]
  },
  {
   "cell_type": "code",
   "execution_count": 1143,
   "metadata": {},
   "outputs": [
    {
     "name": "stdout",
     "output_type": "stream",
     "text": [
      "              precision    recall  f1-score   support\n",
      "\n",
      "           0       1.00      0.93      0.97       105\n",
      "           1       0.94      1.00      0.97       110\n",
      "\n",
      "    accuracy                           0.97       215\n",
      "   macro avg       0.97      0.97      0.97       215\n",
      "weighted avg       0.97      0.97      0.97       215\n",
      "\n"
     ]
    }
   ],
   "source": [
    "metricas = classification_report(y_test, y_test_pred2)\n",
    "print(metricas)"
   ]
  },
  {
   "cell_type": "markdown",
   "metadata": {},
   "source": [
    "### 3.10 Modelo 3: **K-Vecinos (K = arbitrario)** "
   ]
  },
  {
   "cell_type": "markdown",
   "metadata": {},
   "source": [
    "**3.10.1 Instanciamiento**"
   ]
  },
  {
   "cell_type": "code",
   "execution_count": null,
   "metadata": {},
   "outputs": [],
   "source": []
  },
  {
   "cell_type": "markdown",
   "metadata": {},
   "source": [
    "**3.10.2 Entrenamiento**"
   ]
  },
  {
   "cell_type": "code",
   "execution_count": null,
   "metadata": {},
   "outputs": [],
   "source": []
  },
  {
   "cell_type": "markdown",
   "metadata": {},
   "source": [
    "**3.10.2 Predicción**"
   ]
  },
  {
   "cell_type": "code",
   "execution_count": null,
   "metadata": {},
   "outputs": [],
   "source": []
  },
  {
   "cell_type": "code",
   "execution_count": null,
   "metadata": {},
   "outputs": [],
   "source": []
  },
  {
   "cell_type": "markdown",
   "metadata": {},
   "source": [
    "### 3.11 Obtenemos el valor K óptimo\n"
   ]
  },
  {
   "cell_type": "code",
   "execution_count": null,
   "metadata": {},
   "outputs": [],
   "source": []
  },
  {
   "cell_type": "code",
   "execution_count": null,
   "metadata": {},
   "outputs": [],
   "source": []
  },
  {
   "cell_type": "markdown",
   "metadata": {},
   "source": [
    "### 3.12 Modelo 4: **K-Vecinos (K = 2)** "
   ]
  },
  {
   "cell_type": "markdown",
   "metadata": {},
   "source": [
    "**3.12.1 Instanciamiento**"
   ]
  },
  {
   "cell_type": "code",
   "execution_count": null,
   "metadata": {},
   "outputs": [],
   "source": []
  },
  {
   "cell_type": "markdown",
   "metadata": {},
   "source": [
    "**3.12.2 Entrenamiento**"
   ]
  },
  {
   "cell_type": "code",
   "execution_count": null,
   "metadata": {},
   "outputs": [],
   "source": []
  },
  {
   "cell_type": "markdown",
   "metadata": {},
   "source": [
    "**3.12.2 Predicción**"
   ]
  },
  {
   "cell_type": "code",
   "execution_count": null,
   "metadata": {},
   "outputs": [],
   "source": []
  },
  {
   "cell_type": "markdown",
   "metadata": {},
   "source": [
    "## 4. Conclusiones"
   ]
  },
  {
   "cell_type": "markdown",
   "metadata": {},
   "source": []
  }
 ],
 "metadata": {
  "kernelspec": {
   "display_name": "Python 3",
   "language": "python",
   "name": "python3"
  },
  "language_info": {
   "codemirror_mode": {
    "name": "ipython",
    "version": 3
   },
   "file_extension": ".py",
   "mimetype": "text/x-python",
   "name": "python",
   "nbconvert_exporter": "python",
   "pygments_lexer": "ipython3",
   "version": "3.11.3"
  },
  "orig_nbformat": 4
 },
 "nbformat": 4,
 "nbformat_minor": 2
}
